{
 "cells": [
  {
   "cell_type": "markdown",
   "id": "ca4e17db",
   "metadata": {},
   "source": [
    "# Types of Numbers"
   ]
  },
  {
   "cell_type": "markdown",
   "id": "159832ba",
   "metadata": {},
   "source": [
    "## *__1. int__*"
   ]
  },
  {
   "cell_type": "code",
   "execution_count": 6,
   "id": "73f65cb3",
   "metadata": {},
   "outputs": [],
   "source": [
    "num =45"
   ]
  },
  {
   "cell_type": "code",
   "execution_count": 7,
   "id": "eaecda66",
   "metadata": {},
   "outputs": [
    {
     "data": {
      "text/plain": [
       "int"
      ]
     },
     "execution_count": 7,
     "metadata": {},
     "output_type": "execute_result"
    }
   ],
   "source": [
    "type(num)"
   ]
  },
  {
   "cell_type": "markdown",
   "id": "486e5f2a",
   "metadata": {},
   "source": [
    "## *__2. float__*"
   ]
  },
  {
   "cell_type": "code",
   "execution_count": 8,
   "id": "ab169971",
   "metadata": {},
   "outputs": [
    {
     "data": {
      "text/plain": [
       "float"
      ]
     },
     "execution_count": 8,
     "metadata": {},
     "output_type": "execute_result"
    }
   ],
   "source": [
    "num=15.222\n",
    "type(num)"
   ]
  },
  {
   "cell_type": "markdown",
   "id": "397c6824",
   "metadata": {},
   "source": [
    "## *__3. complex number__*"
   ]
  },
  {
   "cell_type": "code",
   "execution_count": 9,
   "id": "56e6dd7c",
   "metadata": {},
   "outputs": [
    {
     "data": {
      "text/plain": [
       "complex"
      ]
     },
     "execution_count": 9,
     "metadata": {},
     "output_type": "execute_result"
    }
   ],
   "source": [
    "num =2+5j\n",
    "type(num)"
   ]
  },
  {
   "cell_type": "code",
   "execution_count": 10,
   "id": "d1fd1f37",
   "metadata": {},
   "outputs": [
    {
     "data": {
      "text/plain": [
       "2.0"
      ]
     },
     "execution_count": 10,
     "metadata": {},
     "output_type": "execute_result"
    }
   ],
   "source": [
    "num.real"
   ]
  },
  {
   "cell_type": "code",
   "execution_count": 12,
   "id": "9b771c5f",
   "metadata": {},
   "outputs": [
    {
     "data": {
      "text/plain": [
       "5.0"
      ]
     },
     "execution_count": 12,
     "metadata": {},
     "output_type": "execute_result"
    }
   ],
   "source": [
    "num.imag"
   ]
  },
  {
   "cell_type": "code",
   "execution_count": 15,
   "id": "bfc5ea35",
   "metadata": {},
   "outputs": [
    {
     "data": {
      "text/plain": [
       "(2+5j)"
      ]
     },
     "execution_count": 15,
     "metadata": {},
     "output_type": "execute_result"
    }
   ],
   "source": [
    "num"
   ]
  },
  {
   "cell_type": "markdown",
   "id": "7202eba4",
   "metadata": {},
   "source": [
    "# Conversion of Data Types"
   ]
  },
  {
   "cell_type": "code",
   "execution_count": 16,
   "id": "bcd1a932",
   "metadata": {},
   "outputs": [
    {
     "data": {
      "text/plain": [
       "str"
      ]
     },
     "execution_count": 16,
     "metadata": {},
     "output_type": "execute_result"
    }
   ],
   "source": [
    "x=\"455\"\n",
    "type(x)"
   ]
  },
  {
   "cell_type": "code",
   "execution_count": 17,
   "id": "e74110e9",
   "metadata": {},
   "outputs": [
    {
     "data": {
      "text/plain": [
       "455"
      ]
     },
     "execution_count": 17,
     "metadata": {},
     "output_type": "execute_result"
    }
   ],
   "source": [
    "int(x)"
   ]
  },
  {
   "cell_type": "code",
   "execution_count": 18,
   "id": "6304df66",
   "metadata": {},
   "outputs": [
    {
     "data": {
      "text/plain": [
       "int"
      ]
     },
     "execution_count": 18,
     "metadata": {},
     "output_type": "execute_result"
    }
   ],
   "source": [
    "x=int(x)\n",
    "type(x) #conversion of string to int"
   ]
  },
  {
   "cell_type": "code",
   "execution_count": 19,
   "id": "24e5a310",
   "metadata": {},
   "outputs": [
    {
     "data": {
      "text/plain": [
       "float"
      ]
     },
     "execution_count": 19,
     "metadata": {},
     "output_type": "execute_result"
    }
   ],
   "source": [
    "x=float(x)\n",
    "type(x)"
   ]
  },
  {
   "cell_type": "code",
   "execution_count": 20,
   "id": "b12210de",
   "metadata": {},
   "outputs": [
    {
     "name": "stdout",
     "output_type": "stream",
     "text": [
      "(455+0j)\n"
     ]
    },
    {
     "data": {
      "text/plain": [
       "complex"
      ]
     },
     "execution_count": 20,
     "metadata": {},
     "output_type": "execute_result"
    }
   ],
   "source": [
    "x=complex(x)\n",
    "print(x)\n",
    "type(x)"
   ]
  },
  {
   "cell_type": "code",
   "execution_count": 1,
   "id": "a28dce5d",
   "metadata": {},
   "outputs": [
    {
     "name": "stdout",
     "output_type": "stream",
     "text": [
      "(2+6j)\n"
     ]
    }
   ],
   "source": [
    "x=complex(2,6)\n",
    "print(x)"
   ]
  },
  {
   "cell_type": "markdown",
   "id": "15002d6b",
   "metadata": {},
   "source": [
    "# function"
   ]
  },
  {
   "cell_type": "code",
   "execution_count": 3,
   "id": "c613a431",
   "metadata": {},
   "outputs": [
    {
     "name": "stdout",
     "output_type": "stream",
     "text": [
      "7.5\n"
     ]
    }
   ],
   "source": [
    "x= -7.5\n",
    "print(abs(x))"
   ]
  },
  {
   "cell_type": "code",
   "execution_count": 4,
   "id": "1b714aa0",
   "metadata": {},
   "outputs": [
    {
     "name": "stdout",
     "output_type": "stream",
     "text": [
      "22026.465794806718\n"
     ]
    }
   ],
   "source": [
    "import math\n",
    "x=10\n",
    "print(math.exp(x))"
   ]
  },
  {
   "cell_type": "code",
   "execution_count": 5,
   "id": "ff63233b",
   "metadata": {},
   "outputs": [
    {
     "data": {
      "text/plain": [
       "2.718281828459045"
      ]
     },
     "execution_count": 5,
     "metadata": {},
     "output_type": "execute_result"
    }
   ],
   "source": [
    "math.e"
   ]
  },
  {
   "cell_type": "code",
   "execution_count": 6,
   "id": "aedb8c5b",
   "metadata": {},
   "outputs": [
    {
     "data": {
      "text/plain": [
       "3.141592653589793"
      ]
     },
     "execution_count": 6,
     "metadata": {},
     "output_type": "execute_result"
    }
   ],
   "source": [
    "math.pi"
   ]
  },
  {
   "cell_type": "code",
   "execution_count": 7,
   "id": "009a2e5c",
   "metadata": {},
   "outputs": [
    {
     "name": "stdout",
     "output_type": "stream",
     "text": [
      "2.449489742783178\n"
     ]
    }
   ],
   "source": [
    "print(math.sqrt(6))"
   ]
  },
  {
   "cell_type": "code",
   "execution_count": 9,
   "id": "b6916f40",
   "metadata": {},
   "outputs": [
    {
     "data": {
      "text/plain": [
       "78"
      ]
     },
     "execution_count": 9,
     "metadata": {},
     "output_type": "execute_result"
    }
   ],
   "source": [
    "\n",
    "max(78,45,2)"
   ]
  },
  {
   "cell_type": "markdown",
   "id": "915ea042",
   "metadata": {},
   "source": [
    "# List in Python"
   ]
  },
  {
   "cell_type": "markdown",
   "id": "badd9dda",
   "metadata": {},
   "source": [
    " A list is a collection of data it hold values of multiple data types.\n",
    " \n",
    " ### List Items\n",
    "* List items are ordered, changeable, and allow duplicate values.\n",
    "\n",
    "* List items are indexed, the first item has index [0], the second item has index [1] etc.\n",
    "\n",
    "## Ordered\n",
    "* When we say that lists are ordered, it means that the items have a defined order, and that order will not change.\n",
    "\n",
    "* If you add new items to a list, the new items will be placed at the end of the list.\n",
    "\n",
    "* Note: There are some list methods that will change the order, but in general: the order of the items will not change.\n",
    "\n",
    "## Changeable\n",
    "* The list is changeable, meaning that we can change, add, and remove items in a list after it has been created.\n",
    "\n",
    "## Allow Duplicates\n",
    "* Since lists are indexed, lists can have items with the same value:"
   ]
  },
  {
   "cell_type": "markdown",
   "id": "fd6dba9c",
   "metadata": {},
   "source": [
    " ## Types of list can be created"
   ]
  },
  {
   "cell_type": "markdown",
   "id": "e468a69b",
   "metadata": {},
   "source": [
    "### i. Integer list \n",
    "* Storing a integers in form of list"
   ]
  },
  {
   "cell_type": "code",
   "execution_count": 10,
   "id": "c39b1fd5",
   "metadata": {},
   "outputs": [
    {
     "name": "stdout",
     "output_type": "stream",
     "text": [
      "[15, 12, 47]\n"
     ]
    }
   ],
   "source": [
    "num =[15,12,47]\n",
    "print(num)"
   ]
  },
  {
   "cell_type": "markdown",
   "id": "b53db622",
   "metadata": {},
   "source": [
    "### ii. Single character list\n",
    "* Storing a Characters in form of list"
   ]
  },
  {
   "cell_type": "code",
   "execution_count": 11,
   "id": "d8fd8d0a",
   "metadata": {},
   "outputs": [
    {
     "name": "stdout",
     "output_type": "stream",
     "text": [
      "['s', 's', 'g']\n"
     ]
    }
   ],
   "source": [
    "letter = ['s','s','g']\n",
    "print(letter)"
   ]
  },
  {
   "cell_type": "markdown",
   "id": "b73b6326",
   "metadata": {},
   "source": [
    "### iii. String based list\n",
    "* Storing a strings in a list\n"
   ]
  },
  {
   "cell_type": "code",
   "execution_count": 13,
   "id": "d6ece40f",
   "metadata": {},
   "outputs": [
    {
     "name": "stdout",
     "output_type": "stream",
     "text": [
      "['lalit', 'singh']\n"
     ]
    }
   ],
   "source": [
    "Str = [\"lalit\",\"singh\"]\n",
    "\n",
    "print(Str)"
   ]
  },
  {
   "cell_type": "markdown",
   "id": "2bd4135b",
   "metadata": {},
   "source": [
    "### iii. Mixed data types List\n",
    "* Storing mixed types data types in a list"
   ]
  },
  {
   "cell_type": "code",
   "execution_count": 14,
   "id": "d00cf1c5",
   "metadata": {},
   "outputs": [
    {
     "name": "stdout",
     "output_type": "stream",
     "text": [
      "[1, 2, 'lalit', 'l', 'hello', 4.568]\n"
     ]
    }
   ],
   "source": [
    "mix = [1,2,\"lalit\",'l',\"hello\",4.568]\n",
    "print(mix)"
   ]
  },
  {
   "cell_type": "markdown",
   "id": "4ab23675",
   "metadata": {},
   "source": [
    "### iii. Matrix based list"
   ]
  },
  {
   "cell_type": "code",
   "execution_count": 16,
   "id": "0e4e1d40",
   "metadata": {},
   "outputs": [
    {
     "name": "stdout",
     "output_type": "stream",
     "text": [
      "[[1, 30], ['lalit', 'singh']]\n"
     ]
    }
   ],
   "source": [
    "mat =[[1,30],[\"lalit\",\"singh\"]]\n",
    "print(mat)"
   ]
  },
  {
   "cell_type": "markdown",
   "id": "df76cb50",
   "metadata": {},
   "source": [
    "# Accessing elements in list"
   ]
  },
  {
   "cell_type": "code",
   "execution_count": 18,
   "id": "2e33b6ca",
   "metadata": {},
   "outputs": [
    {
     "name": "stdout",
     "output_type": "stream",
     "text": [
      "[1, 2, 'lalit', 'l', 'hello', 4.568]\n"
     ]
    }
   ],
   "source": [
    "print(mix)"
   ]
  },
  {
   "cell_type": "code",
   "execution_count": 19,
   "id": "7c4d34e5",
   "metadata": {},
   "outputs": [
    {
     "data": {
      "text/plain": [
       "2"
      ]
     },
     "execution_count": 19,
     "metadata": {},
     "output_type": "execute_result"
    }
   ],
   "source": [
    "mix[1]"
   ]
  },
  {
   "cell_type": "markdown",
   "id": "26612cfb",
   "metadata": {},
   "source": [
    " ### Negative Indexing\n",
    "\n"
   ]
  },
  {
   "cell_type": "code",
   "execution_count": 21,
   "id": "e8dca360",
   "metadata": {},
   "outputs": [
    {
     "data": {
      "text/plain": [
       "'hello'"
      ]
     },
     "execution_count": 21,
     "metadata": {},
     "output_type": "execute_result"
    }
   ],
   "source": [
    "mix[-2] #give result from last"
   ]
  },
  {
   "cell_type": "markdown",
   "id": "65ca80b6",
   "metadata": {},
   "source": [
    "<h3> Range of Indexes </h3>\n",
    "\n",
    "* You can specify a range of indexes by specifying where to start and where to end the range.\n",
    "\n",
    "* When specifying a range, the return value will be a new list with the specified items."
   ]
  },
  {
   "cell_type": "code",
   "execution_count": 23,
   "id": "dff31e58",
   "metadata": {},
   "outputs": [
    {
     "name": "stdout",
     "output_type": "stream",
     "text": [
      "['cherry', 'orange', 'kiwi']\n"
     ]
    }
   ],
   "source": [
    "thislist = [\"apple\", \"banana\", \"cherry\", \"orange\", \"kiwi\", \"melon\", \"mango\"]\n",
    "print(thislist[2:5])"
   ]
  },
  {
   "cell_type": "code",
   "execution_count": 24,
   "id": "e92c10e2",
   "metadata": {},
   "outputs": [
    {
     "data": {
      "text/plain": [
       "['apple', 'banana', 'cherry']"
      ]
     },
     "execution_count": 24,
     "metadata": {},
     "output_type": "execute_result"
    }
   ],
   "source": [
    "thislist[:3] #print first 3 elements "
   ]
  },
  {
   "cell_type": "code",
   "execution_count": 26,
   "id": "025b7fa5",
   "metadata": {},
   "outputs": [
    {
     "data": {
      "text/plain": [
       "['orange', 'kiwi', 'melon', 'mango']"
      ]
     },
     "execution_count": 26,
     "metadata": {},
     "output_type": "execute_result"
    }
   ],
   "source": [
    "thislist[3:] #print from the 3rd element"
   ]
  },
  {
   "cell_type": "markdown",
   "id": "a940a395",
   "metadata": {},
   "source": [
    "*__<i style=\"color:red;\">Print every second number from list</i>__*"
   ]
  },
  {
   "cell_type": "code",
   "execution_count": 27,
   "id": "340d585c",
   "metadata": {},
   "outputs": [
    {
     "data": {
      "text/plain": [
       "['apple', 'cherry', 'kiwi', 'mango']"
      ]
     },
     "execution_count": 27,
     "metadata": {},
     "output_type": "execute_result"
    }
   ],
   "source": [
    "thislist[::2]"
   ]
  },
  {
   "cell_type": "code",
   "execution_count": 29,
   "id": "d574d85b",
   "metadata": {},
   "outputs": [
    {
     "data": {
      "text/plain": [
       "['mango', 'orange', 'apple']"
      ]
     },
     "execution_count": 29,
     "metadata": {},
     "output_type": "execute_result"
    }
   ],
   "source": [
    "thislist[::-3] #printing from end every 3rd element"
   ]
  },
  {
   "cell_type": "code",
   "execution_count": 30,
   "id": "084b15c8",
   "metadata": {},
   "outputs": [
    {
     "data": {
      "text/plain": [
       "['banana', 'orange', 'melon']"
      ]
     },
     "execution_count": 30,
     "metadata": {},
     "output_type": "execute_result"
    }
   ],
   "source": [
    "thislist[1::2] #printing from 1st index"
   ]
  },
  {
   "cell_type": "markdown",
   "id": "d51a1e44",
   "metadata": {},
   "source": [
    "# Operations on List\n"
   ]
  },
  {
   "cell_type": "markdown",
   "id": "59d28389",
   "metadata": {},
   "source": [
    "#### 1. Saving same elements N numbers of types"
   ]
  },
  {
   "cell_type": "code",
   "execution_count": 33,
   "id": "a1071a0b",
   "metadata": {},
   "outputs": [
    {
     "name": "stdout",
     "output_type": "stream",
     "text": [
      "['lalit', 'lalit', 'lalit', 'lalit', 'lalit', 'lalit', 'lalit', 'lalit', 'lalit', 'lalit']\n"
     ]
    }
   ],
   "source": [
    "str=[\"lalit\"]*10\n",
    "print(str)"
   ]
  },
  {
   "cell_type": "markdown",
   "id": "0b122db2",
   "metadata": {},
   "source": [
    "#### 2. concatination of list"
   ]
  },
  {
   "cell_type": "code",
   "execution_count": 1,
   "id": "9e048d50",
   "metadata": {},
   "outputs": [],
   "source": [
    "stg = [\"lalit\",\"hello\",\"trickster\"]"
   ]
  },
  {
   "cell_type": "code",
   "execution_count": 2,
   "id": "65c7d20f",
   "metadata": {},
   "outputs": [],
   "source": [
    "lett =[1,5,69,45]\n"
   ]
  },
  {
   "cell_type": "code",
   "execution_count": 3,
   "id": "5065a82f",
   "metadata": {},
   "outputs": [
    {
     "name": "stdout",
     "output_type": "stream",
     "text": [
      "[1, 5, 69, 45, 'lalit', 'hello', 'trickster']\n"
     ]
    }
   ],
   "source": [
    "conc = lett+stg\n",
    "print(conc)"
   ]
  },
  {
   "cell_type": "markdown",
   "id": "94a0b6f7",
   "metadata": {},
   "source": [
    "#### converting string into a list"
   ]
  },
  {
   "cell_type": "code",
   "execution_count": 4,
   "id": "98ebab6a",
   "metadata": {},
   "outputs": [
    {
     "name": "stdout",
     "output_type": "stream",
     "text": [
      "['h', 'e', 'l', 'l', 'o']\n"
     ]
    }
   ],
   "source": [
    "var = list(\"hello\")\n",
    "print(var)"
   ]
  },
  {
   "cell_type": "markdown",
   "id": "25c8e190",
   "metadata": {},
   "source": [
    "#### storing list in two variables\n"
   ]
  },
  {
   "cell_type": "code",
   "execution_count": 5,
   "id": "bd629669",
   "metadata": {},
   "outputs": [
    {
     "name": "stdout",
     "output_type": "stream",
     "text": [
      "[1, 5, 69, 45]\n"
     ]
    }
   ],
   "source": [
    "print(lett)\n"
   ]
  },
  {
   "cell_type": "code",
   "execution_count": 7,
   "id": "c038b59f",
   "metadata": {},
   "outputs": [
    {
     "name": "stdout",
     "output_type": "stream",
     "text": [
      "1\n",
      "[5, 69, 45]\n"
     ]
    }
   ],
   "source": [
    "first,*second=lett\n",
    "print(first)\n",
    "print(second)"
   ]
  },
  {
   "cell_type": "markdown",
   "id": "59a7f8a1",
   "metadata": {},
   "source": [
    "# Methods in list"
   ]
  },
  {
   "cell_type": "code",
   "execution_count": 8,
   "id": "d26161cb",
   "metadata": {},
   "outputs": [],
   "source": [
    "num=[1,3,4,7,7]"
   ]
  },
  {
   "cell_type": "code",
   "execution_count": 9,
   "id": "c016bc37",
   "metadata": {},
   "outputs": [
    {
     "name": "stdout",
     "output_type": "stream",
     "text": [
      "[1, 3, 4, 7, 7, 6]\n"
     ]
    }
   ],
   "source": [
    "num.append(6) #adding single element in list\n",
    "print(num) "
   ]
  },
  {
   "cell_type": "code",
   "execution_count": 14,
   "id": "c4f8c5be",
   "metadata": {},
   "outputs": [
    {
     "name": "stdout",
     "output_type": "stream",
     "text": [
      "[1, 3, 4, 7, 7, 6, 1, 5, 69, 45, 1, 5, 69, 45, 1, 5, 69, 45, 1, 5, 69, 45]\n"
     ]
    }
   ],
   "source": [
    "num.extend(lett) #adding one list to another list\n",
    "print(num)"
   ]
  },
  {
   "cell_type": "code",
   "execution_count": 15,
   "id": "e5636f0c",
   "metadata": {},
   "outputs": [
    {
     "name": "stdout",
     "output_type": "stream",
     "text": [
      "[1, 3, 4, 'hello', 7, 7, 6, 1, 5, 69, 45, 1, 5, 69, 45, 1, 5, 69, 45, 1, 5, 69, 45]\n"
     ]
    }
   ],
   "source": [
    "num.insert(3,\"hello\")#inserting a element after the third position\n",
    "print(num)"
   ]
  },
  {
   "cell_type": "code",
   "execution_count": 16,
   "id": "708197f1",
   "metadata": {},
   "outputs": [
    {
     "name": "stdout",
     "output_type": "stream",
     "text": [
      "[1, 3, 4, 7, 7, 6, 1, 5, 69, 45, 1, 5, 69, 45, 1, 5, 69, 45, 1, 5, 69, 45]\n"
     ]
    }
   ],
   "source": [
    "num.remove(\"hello\")\n",
    "print(num)"
   ]
  },
  {
   "cell_type": "code",
   "execution_count": 17,
   "id": "52dd3abd",
   "metadata": {},
   "outputs": [
    {
     "name": "stdout",
     "output_type": "stream",
     "text": [
      "[1, 1, 1, 1, 1, 3, 4, 5, 5, 5, 5, 6, 7, 7, 45, 45, 45, 45, 69, 69, 69, 69]\n"
     ]
    }
   ],
   "source": [
    "num.sort()\n",
    "print(num)"
   ]
  },
  {
   "cell_type": "markdown",
   "id": "67ea9b1c",
   "metadata": {},
   "source": [
    "# Builtin function "
   ]
  },
  {
   "cell_type": "code",
   "execution_count": 18,
   "id": "e67882e4",
   "metadata": {},
   "outputs": [
    {
     "name": "stdout",
     "output_type": "stream",
     "text": [
      "[1, 1, 1, 1, 1, 3, 4, 5, 5, 5, 5, 6, 7, 7, 45, 45, 45, 45, 69, 69, 69, 69]\n"
     ]
    }
   ],
   "source": [
    "print(num)"
   ]
  },
  {
   "cell_type": "code",
   "execution_count": 19,
   "id": "4036c4a2",
   "metadata": {},
   "outputs": [
    {
     "data": {
      "text/plain": [
       "22"
      ]
     },
     "execution_count": 19,
     "metadata": {},
     "output_type": "execute_result"
    }
   ],
   "source": [
    "len(num)"
   ]
  },
  {
   "cell_type": "code",
   "execution_count": 20,
   "id": "d8c87659",
   "metadata": {},
   "outputs": [
    {
     "data": {
      "text/plain": [
       "1"
      ]
     },
     "execution_count": 20,
     "metadata": {},
     "output_type": "execute_result"
    }
   ],
   "source": [
    "min(num)"
   ]
  },
  {
   "cell_type": "code",
   "execution_count": 21,
   "id": "420f2073",
   "metadata": {},
   "outputs": [
    {
     "data": {
      "text/plain": [
       "69"
      ]
     },
     "execution_count": 21,
     "metadata": {},
     "output_type": "execute_result"
    }
   ],
   "source": [
    "max(num)"
   ]
  },
  {
   "cell_type": "code",
   "execution_count": 22,
   "id": "5241929f",
   "metadata": {},
   "outputs": [
    {
     "data": {
      "text/plain": [
       "508"
      ]
     },
     "execution_count": 22,
     "metadata": {},
     "output_type": "execute_result"
    }
   ],
   "source": [
    "sum(num)"
   ]
  },
  {
   "cell_type": "code",
   "execution_count": 23,
   "id": "6d453a35",
   "metadata": {},
   "outputs": [],
   "source": [
    "avg= sum(num)/len(num)"
   ]
  },
  {
   "cell_type": "markdown",
   "id": "9d983be9",
   "metadata": {},
   "source": [
    "<a href=\"\"><button>Next</button></a>"
   ]
  }
 ],
 "metadata": {
  "kernelspec": {
   "display_name": "Python 3 (ipykernel)",
   "language": "python",
   "name": "python3"
  },
  "language_info": {
   "codemirror_mode": {
    "name": "ipython",
    "version": 3
   },
   "file_extension": ".py",
   "mimetype": "text/x-python",
   "name": "python",
   "nbconvert_exporter": "python",
   "pygments_lexer": "ipython3",
   "version": "3.9.13"
  }
 },
 "nbformat": 4,
 "nbformat_minor": 5
}
