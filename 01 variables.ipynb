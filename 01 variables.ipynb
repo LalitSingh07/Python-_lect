{
 "cells": [
  {
   "cell_type": "markdown",
   "id": "4dd5f540",
   "metadata": {},
   "source": [
    "# 1 Declare the variables by = operator\n",
    "* ## no need to define its data type\n"
   ]
  },
  {
   "cell_type": "code",
   "execution_count": 7,
   "id": "cb87d0ec",
   "metadata": {},
   "outputs": [],
   "source": [
    "x=100"
   ]
  },
  {
   "cell_type": "markdown",
   "id": "35c64271",
   "metadata": {},
   "source": [
    "## 2 Get the data type by method \n",
    "*___type(variable_name)___*"
   ]
  },
  {
   "cell_type": "code",
   "execution_count": 9,
   "id": "5f665b0e",
   "metadata": {},
   "outputs": [
    {
     "data": {
      "text/plain": [
       "int"
      ]
     },
     "execution_count": 9,
     "metadata": {},
     "output_type": "execute_result"
    }
   ],
   "source": [
    "type(x)"
   ]
  },
  {
   "cell_type": "code",
   "execution_count": 12,
   "id": "9489e354",
   "metadata": {},
   "outputs": [
    {
     "data": {
      "text/plain": [
       "float"
      ]
     },
     "execution_count": 12,
     "metadata": {},
     "output_type": "execute_result"
    }
   ],
   "source": [
    "x=3.14\n",
    "type(x)"
   ]
  },
  {
   "cell_type": "markdown",
   "id": "a0393848",
   "metadata": {},
   "source": [
    " #  3. storing string through two ways\n",
    "#### *__method 1__*"
   ]
  },
  {
   "cell_type": "code",
   "execution_count": 15,
   "id": "d884f31f",
   "metadata": {},
   "outputs": [],
   "source": [
    " x=\"hello worl\""
   ]
  },
  {
   "cell_type": "code",
   "execution_count": 16,
   "id": "087b6e44",
   "metadata": {},
   "outputs": [
    {
     "name": "stdout",
     "output_type": "stream",
     "text": [
      "hello worl\n"
     ]
    }
   ],
   "source": [
    "print(x)\n"
   ]
  },
  {
   "cell_type": "markdown",
   "id": "25195696",
   "metadata": {},
   "source": [
    "#### *__method 2__*"
   ]
  },
  {
   "cell_type": "code",
   "execution_count": 17,
   "id": "0bbac6db",
   "metadata": {},
   "outputs": [],
   "source": [
    "x='hello'"
   ]
  },
  {
   "cell_type": "code",
   "execution_count": 18,
   "id": "2b1e3902",
   "metadata": {},
   "outputs": [
    {
     "name": "stdout",
     "output_type": "stream",
     "text": [
      "hello\n"
     ]
    }
   ],
   "source": [
    "print(x)"
   ]
  },
  {
   "cell_type": "code",
   "execution_count": 19,
   "id": "ef1f0071",
   "metadata": {},
   "outputs": [
    {
     "data": {
      "text/plain": [
       "str"
      ]
     },
     "execution_count": 19,
     "metadata": {},
     "output_type": "execute_result"
    }
   ],
   "source": [
    "type(x)"
   ]
  },
  {
   "cell_type": "markdown",
   "id": "2803fc0b",
   "metadata": {},
   "source": [
    "## 4. Storing data in form of list"
   ]
  },
  {
   "cell_type": "code",
   "execution_count": 1,
   "id": "be026ac3",
   "metadata": {},
   "outputs": [],
   "source": [
    "x=[14,45,478]\n",
    "\n",
    "# list example"
   ]
  },
  {
   "cell_type": "code",
   "execution_count": 21,
   "id": "1df957a2",
   "metadata": {},
   "outputs": [
    {
     "name": "stdout",
     "output_type": "stream",
     "text": [
      "[14, 45, 478]\n"
     ]
    }
   ],
   "source": [
    "print(x)"
   ]
  },
  {
   "cell_type": "code",
   "execution_count": 22,
   "id": "efd7d1d6",
   "metadata": {},
   "outputs": [
    {
     "data": {
      "text/plain": [
       "list"
      ]
     },
     "execution_count": 22,
     "metadata": {},
     "output_type": "execute_result"
    }
   ],
   "source": [
    "type(x)"
   ]
  },
  {
   "cell_type": "markdown",
   "id": "c6a813f4",
   "metadata": {},
   "source": [
    "### *__fetching data through the index number__*"
   ]
  },
  {
   "cell_type": "code",
   "execution_count": 23,
   "id": "11a231a3",
   "metadata": {},
   "outputs": [
    {
     "name": "stdout",
     "output_type": "stream",
     "text": [
      "14\n"
     ]
    }
   ],
   "source": [
    "print(x[0])"
   ]
  },
  {
   "cell_type": "markdown",
   "id": "ca5283bf",
   "metadata": {},
   "source": [
    "### *__changing variable by index number__*"
   ]
  },
  {
   "cell_type": "code",
   "execution_count": 24,
   "id": "2d525af0",
   "metadata": {},
   "outputs": [],
   "source": [
    "x[0]=45"
   ]
  },
  {
   "cell_type": "code",
   "execution_count": 25,
   "id": "dbc0de27",
   "metadata": {},
   "outputs": [
    {
     "name": "stdout",
     "output_type": "stream",
     "text": [
      "[45, 45, 478]\n"
     ]
    }
   ],
   "source": [
    "print(x)\n"
   ]
  },
  {
   "cell_type": "markdown",
   "id": "80e9ed65",
   "metadata": {},
   "source": [
    "# 5. Storing data in the tupples"
   ]
  },
  {
   "cell_type": "code",
   "execution_count": 27,
   "id": "b79d999f",
   "metadata": {},
   "outputs": [],
   "source": [
    "# tupple\n",
    "x=(45,47,78)"
   ]
  },
  {
   "cell_type": "code",
   "execution_count": 28,
   "id": "1d7c42cd",
   "metadata": {},
   "outputs": [
    {
     "name": "stdout",
     "output_type": "stream",
     "text": [
      "(45, 47, 78)\n"
     ]
    }
   ],
   "source": [
    "print(x)"
   ]
  },
  {
   "cell_type": "markdown",
   "id": "861cc5c1",
   "metadata": {},
   "source": [
    "   ## Diffrence between list and tuple\n",
    "\n",
    "* tuples values can't be changed by index number once it  declared "
   ]
  },
  {
   "cell_type": "code",
   "execution_count": 29,
   "id": "49f3be13",
   "metadata": {},
   "outputs": [
    {
     "ename": "TypeError",
     "evalue": "'tuple' object does not support item assignment",
     "output_type": "error",
     "traceback": [
      "\u001b[1;31m---------------------------------------------------------------------------\u001b[0m",
      "\u001b[1;31mTypeError\u001b[0m                                 Traceback (most recent call last)",
      "\u001b[1;32m~\\AppData\\Local\\Temp\\ipykernel_820\\546353726.py\u001b[0m in \u001b[0;36m<module>\u001b[1;34m\u001b[0m\n\u001b[1;32m----> 1\u001b[1;33m \u001b[0mx\u001b[0m\u001b[1;33m[\u001b[0m\u001b[1;36m1\u001b[0m\u001b[1;33m]\u001b[0m\u001b[1;33m=\u001b[0m\u001b[1;36m45\u001b[0m\u001b[1;33m\u001b[0m\u001b[1;33m\u001b[0m\u001b[0m\n\u001b[0m",
      "\u001b[1;31mTypeError\u001b[0m: 'tuple' object does not support item assignment"
     ]
    }
   ],
   "source": [
    "x[1]=45"
   ]
  },
  {
   "cell_type": "code",
   "execution_count": 30,
   "id": "ecc6e69d",
   "metadata": {},
   "outputs": [
    {
     "name": "stdout",
     "output_type": "stream",
     "text": [
      "47\n"
     ]
    }
   ],
   "source": [
    "print(x[1])"
   ]
  },
  {
   "cell_type": "markdown",
   "id": "7ad72da5",
   "metadata": {},
   "source": [
    "# Opening files in python\n",
    "##### syntax :- open('filename','method')\n",
    "##### methods\n",
    "r : read </br>\n",
    "a : read and write </br>\n",
    "x : create a file </br>"
   ]
  },
  {
   "cell_type": "code",
   "execution_count": 6,
   "id": "3169e33b",
   "metadata": {},
   "outputs": [
    {
     "name": "stdout",
     "output_type": "stream",
     "text": [
      "dacesf\n"
     ]
    }
   ],
   "source": [
    "x=open('file.txt','r') #opening a file\n",
    "y=x.read() #read a file\n",
    "print(y) #print a file"
   ]
  },
  {
   "cell_type": "code",
   "execution_count": 36,
   "id": "08bc69db",
   "metadata": {},
   "outputs": [
    {
     "data": {
      "text/plain": [
       "_io.TextIOWrapper"
      ]
     },
     "execution_count": 36,
     "metadata": {},
     "output_type": "execute_result"
    }
   ],
   "source": [
    "type(x)"
   ]
  },
  {
   "cell_type": "markdown",
   "id": "c6acd0ea",
   "metadata": {},
   "source": [
    "## *__Declaring a variables__*"
   ]
  },
  {
   "cell_type": "code",
   "execution_count": 12,
   "id": "bfa0ca52",
   "metadata": {},
   "outputs": [],
   "source": [
    "(x,y,z)=5,10,79 "
   ]
  },
  {
   "cell_type": "code",
   "execution_count": 13,
   "id": "4548e41b",
   "metadata": {},
   "outputs": [
    {
     "name": "stdout",
     "output_type": "stream",
     "text": [
      "5 10 79\n"
     ]
    }
   ],
   "source": [
    "print(x,y,z)"
   ]
  },
  {
   "cell_type": "code",
   "execution_count": 14,
   "id": "d2ffc8a3",
   "metadata": {},
   "outputs": [
    {
     "name": "stdout",
     "output_type": "stream",
     "text": [
      "5\n",
      "10\n",
      "79\n"
     ]
    }
   ],
   "source": [
    "print(x)\n",
    "print(y)\n",
    "print(z)"
   ]
  },
  {
   "cell_type": "code",
   "execution_count": 15,
   "id": "d27c271d",
   "metadata": {},
   "outputs": [],
   "source": [
    "y=45"
   ]
  },
  {
   "cell_type": "code",
   "execution_count": 16,
   "id": "c8430e55",
   "metadata": {},
   "outputs": [
    {
     "name": "stdout",
     "output_type": "stream",
     "text": [
      "5 45 79\n"
     ]
    }
   ],
   "source": [
    "print(x,y,z)"
   ]
  },
  {
   "cell_type": "code",
   "execution_count": 17,
   "id": "b0bf3782",
   "metadata": {},
   "outputs": [],
   "source": [
    "x=y=z=45\n"
   ]
  },
  {
   "cell_type": "code",
   "execution_count": 18,
   "id": "9b6086b4",
   "metadata": {},
   "outputs": [
    {
     "name": "stdout",
     "output_type": "stream",
     "text": [
      "45 45 45\n"
     ]
    }
   ],
   "source": [
    "print(x,y,z)"
   ]
  },
  {
   "cell_type": "markdown",
   "id": "defd4f50",
   "metadata": {},
   "source": [
    "# arithmatic operations"
   ]
  },
  {
   "cell_type": "code",
   "execution_count": 19,
   "id": "ee43fab2",
   "metadata": {},
   "outputs": [],
   "source": [
    "x=45\n",
    "y=12"
   ]
  },
  {
   "cell_type": "markdown",
   "id": "5e96b45e",
   "metadata": {},
   "source": [
    "*__Addition and Subtraction__*"
   ]
  },
  {
   "cell_type": "code",
   "execution_count": 34,
   "id": "02cce297",
   "metadata": {
    "scrolled": true
   },
   "outputs": [
    {
     "name": "stdout",
     "output_type": "stream",
     "text": [
      "78\n",
      "12\n"
     ]
    }
   ],
   "source": [
    "add=x+y\n",
    "sub=x-y\n",
    "print(add)\n",
    "print(sub)\n"
   ]
  },
  {
   "cell_type": "markdown",
   "id": "85ab72a7",
   "metadata": {},
   "source": [
    "*__Modulus__*"
   ]
  },
  {
   "cell_type": "code",
   "execution_count": 21,
   "id": "ad2efdb4",
   "metadata": {},
   "outputs": [
    {
     "name": "stdout",
     "output_type": "stream",
     "text": [
      "9\n"
     ]
    }
   ],
   "source": [
    "res=x%y\n",
    "print(res)"
   ]
  },
  {
   "cell_type": "markdown",
   "id": "b9b7d04c",
   "metadata": {},
   "source": [
    "*__Division__*"
   ]
  },
  {
   "cell_type": "code",
   "execution_count": 38,
   "id": "37ed2830",
   "metadata": {},
   "outputs": [
    {
     "name": "stdout",
     "output_type": "stream",
     "text": [
      "1.3636363636363635\n"
     ]
    }
   ],
   "source": [
    "res=x/y\n",
    "print(res)"
   ]
  },
  {
   "cell_type": "markdown",
   "id": "66599319",
   "metadata": {},
   "source": [
    "*__Floor Division__*"
   ]
  },
  {
   "cell_type": "code",
   "execution_count": 37,
   "id": "44bbabaf",
   "metadata": {},
   "outputs": [
    {
     "name": "stdout",
     "output_type": "stream",
     "text": [
      "1\n"
     ]
    }
   ],
   "source": [
    "print(x // y)\n",
    "\n",
    "#the floor division // rounds the result down to the nearest whole number"
   ]
  },
  {
   "cell_type": "markdown",
   "id": "5584d2b0",
   "metadata": {},
   "source": [
    "# Strings in python"
   ]
  },
  {
   "cell_type": "code",
   "execution_count": 28,
   "id": "31cfb861",
   "metadata": {},
   "outputs": [],
   "source": [
    "var=\"lalit\"\n"
   ]
  },
  {
   "cell_type": "code",
   "execution_count": 29,
   "id": "1fce1bdc",
   "metadata": {},
   "outputs": [
    {
     "name": "stdout",
     "output_type": "stream",
     "text": [
      "l\n"
     ]
    }
   ],
   "source": [
    "print(var[0])"
   ]
  },
  {
   "cell_type": "markdown",
   "id": "7f99c3e0",
   "metadata": {},
   "source": [
    "### printing the length of the string"
   ]
  },
  {
   "cell_type": "code",
   "execution_count": 31,
   "id": "5c17bacb",
   "metadata": {},
   "outputs": [
    {
     "name": "stdout",
     "output_type": "stream",
     "text": [
      "5\n"
     ]
    }
   ],
   "source": [
    "print(len(var)) #print the length of string"
   ]
  },
  {
   "cell_type": "code",
   "execution_count": 39,
   "id": "288e2dc0",
   "metadata": {},
   "outputs": [
    {
     "name": "stdout",
     "output_type": "stream",
     "text": [
      "lal\n"
     ]
    }
   ],
   "source": [
    "print(var[0:3]) #print the string from 0 - 3 length"
   ]
  },
  {
   "cell_type": "code",
   "execution_count": 60,
   "id": "693eff3d",
   "metadata": {},
   "outputs": [
    {
     "name": "stdout",
     "output_type": "stream",
     "text": [
      "lali\n"
     ]
    }
   ],
   "source": [
    "print(var[:4]) #print the string from 0 - 4 length"
   ]
  },
  {
   "cell_type": "code",
   "execution_count": 66,
   "id": "33221fbe",
   "metadata": {},
   "outputs": [
    {
     "name": "stdout",
     "output_type": "stream",
     "text": [
      "t\n"
     ]
    }
   ],
   "source": [
    "print(var[4:]) #print the string from 4th position to last position"
   ]
  },
  {
   "cell_type": "code",
   "execution_count": 40,
   "id": "16be7979",
   "metadata": {},
   "outputs": [
    {
     "name": "stdout",
     "output_type": "stream",
     "text": [
      "5\n"
     ]
    }
   ],
   "source": [
    "print(len(var))"
   ]
  },
  {
   "cell_type": "markdown",
   "id": "5c141a8a",
   "metadata": {},
   "source": [
    "# complex numbers"
   ]
  },
  {
   "cell_type": "code",
   "execution_count": 72,
   "id": "f0b323c4",
   "metadata": {},
   "outputs": [],
   "source": [
    "num=2+5j"
   ]
  },
  {
   "cell_type": "code",
   "execution_count": 73,
   "id": "cd97c9ca",
   "metadata": {},
   "outputs": [
    {
     "data": {
      "text/plain": [
       "complex"
      ]
     },
     "execution_count": 73,
     "metadata": {},
     "output_type": "execute_result"
    }
   ],
   "source": [
    "type(num)"
   ]
  },
  {
   "cell_type": "markdown",
   "id": "13699c52",
   "metadata": {},
   "source": [
    "### *_printing the real number from complex number_*"
   ]
  },
  {
   "cell_type": "code",
   "execution_count": 74,
   "id": "f15855ec",
   "metadata": {},
   "outputs": [
    {
     "data": {
      "text/plain": [
       "2.0"
      ]
     },
     "execution_count": 74,
     "metadata": {},
     "output_type": "execute_result"
    }
   ],
   "source": [
    "num.real"
   ]
  },
  {
   "cell_type": "markdown",
   "id": "f25f917a",
   "metadata": {},
   "source": [
    "### *_printing the imaginary number from complex number_*"
   ]
  },
  {
   "cell_type": "code",
   "execution_count": 75,
   "id": "82f492f0",
   "metadata": {},
   "outputs": [
    {
     "data": {
      "text/plain": [
       "5.0"
      ]
     },
     "execution_count": 75,
     "metadata": {},
     "output_type": "execute_result"
    }
   ],
   "source": [
    "num.imag"
   ]
  },
  {
   "cell_type": "markdown",
   "id": "4a4436b0",
   "metadata": {},
   "source": [
    "# changing the variable type"
   ]
  },
  {
   "cell_type": "code",
   "execution_count": 77,
   "id": "7cba1166",
   "metadata": {},
   "outputs": [
    {
     "data": {
      "text/plain": [
       "str"
      ]
     },
     "execution_count": 77,
     "metadata": {},
     "output_type": "execute_result"
    }
   ],
   "source": [
    "x=\"45\"\n",
    "type(x)"
   ]
  },
  {
   "cell_type": "code",
   "execution_count": 78,
   "id": "39a252f9",
   "metadata": {},
   "outputs": [
    {
     "data": {
      "text/plain": [
       "int"
      ]
     },
     "execution_count": 78,
     "metadata": {},
     "output_type": "execute_result"
    }
   ],
   "source": [
    "x=int(x)\n",
    "type(x)"
   ]
  }
 ],
 "metadata": {
  "kernelspec": {
   "display_name": "Python 3 (ipykernel)",
   "language": "python",
   "name": "python3"
  },
  "language_info": {
   "codemirror_mode": {
    "name": "ipython",
    "version": 3
   },
   "file_extension": ".py",
   "mimetype": "text/x-python",
   "name": "python",
   "nbconvert_exporter": "python",
   "pygments_lexer": "ipython3",
   "version": "3.10.9"
  }
 },
 "nbformat": 4,
 "nbformat_minor": 5
}
