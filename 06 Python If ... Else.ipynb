{
 "cells": [
  {
   "cell_type": "markdown",
   "id": "e953d2fb",
   "metadata": {},
   "source": [
    "## Python Conditions and If statements\n",
    "#####  Python supports the usual logical conditions from mathematics:\n",
    "\n",
    "Equals: a == b\n",
    "\n",
    "Not Equals: a != b\n",
    "\n",
    "Less than: a < b\n",
    "\n",
    "Less than or equal to: a <= b\n",
    "\n",
    "Greater than: a > b\n",
    "\n",
    "Greater than or equal to: a >= b\n",
    "\n",
    "These conditions can be used in several ways, most commonly in \"if statements\" and loops.\n",
    "\n",
    "An \"if statement\" is written by using the if keyword."
   ]
  },
  {
   "cell_type": "code",
   "execution_count": 3,
   "id": "c283c0c5",
   "metadata": {},
   "outputs": [
    {
     "name": "stdout",
     "output_type": "stream",
     "text": [
      "a is greater\n"
     ]
    }
   ],
   "source": [
    "a = 400\n",
    "b = 200\n",
    "if a <b :\n",
    "    print(\"b is greater\")\n",
    "else:\n",
    "    print(\"a is greater\")\n",
    "         \n",
    "   "
   ]
  },
  {
   "cell_type": "markdown",
   "id": "d55fdd64",
   "metadata": {},
   "source": [
    "## Elif\n",
    "The elif keyword is Python's way of saying \"if the previous conditions were not true, then try this condition\"."
   ]
  },
  {
   "cell_type": "code",
   "execution_count": 1,
   "id": "eefb5944",
   "metadata": {},
   "outputs": [
    {
     "name": "stdout",
     "output_type": "stream",
     "text": [
      "a and b are equal\n"
     ]
    }
   ],
   "source": [
    "a = 33\n",
    "b = 33\n",
    "if b > a:\n",
    "  print(\"b is greater than a\")\n",
    "elif a == b:\n",
    "  print(\"a and b are equal\")"
   ]
  },
  {
   "cell_type": "markdown",
   "id": "c16af6f2",
   "metadata": {},
   "source": [
    "### Short Hand If\n",
    "If you have only one statement to execute, you can put it on the same line as the if statement."
   ]
  },
  {
   "cell_type": "code",
   "execution_count": null,
   "id": "62f95025",
   "metadata": {},
   "outputs": [
    {
     "name": "stdout",
     "output_type": "stream",
     "text": [
      "a is greater than b\n"
     ]
    }
   ],
   "source": [
    "a = 200\n",
    "b = 33\n",
    "if a > b: print(\"a is greater than b\")"
   ]
  },
  {
   "cell_type": "markdown",
   "id": "55d664a8",
   "metadata": {},
   "source": [
    "### Short Hand If ... Else\n",
    "If you have only one statement to execute, one for if, and one for else, you can put it all on the same line:"
   ]
  },
  {
   "cell_type": "code",
   "execution_count": 2,
   "id": "f0e1d0c6",
   "metadata": {},
   "outputs": [
    {
     "name": "stdout",
     "output_type": "stream",
     "text": [
      "A\n"
     ]
    }
   ],
   "source": [
    "a = 2555\n",
    "b = 330\n",
    "print(\"A\") if a > b else print(\"B\")"
   ]
  },
  {
   "cell_type": "markdown",
   "id": "3784d0d5",
   "metadata": {},
   "source": [
    "## And\n",
    "The and keyword is a logical operator, and is used to combine conditional statements:"
   ]
  },
  {
   "cell_type": "code",
   "execution_count": 1,
   "id": "ad85a94c",
   "metadata": {},
   "outputs": [
    {
     "name": "stdout",
     "output_type": "stream",
     "text": [
      "Both conditions are True\n"
     ]
    }
   ],
   "source": [
    "a = 200\n",
    "b = 33\n",
    "c = 500\n",
    "if a > b and c > a:\n",
    "  print(\"Both conditions are True\")"
   ]
  },
  {
   "attachments": {},
   "cell_type": "markdown",
   "id": "dbbe76dd",
   "metadata": {},
   "source": [
    "# Or\n",
    "The or keyword is a logical operator, and is used to combine conditional statements:"
   ]
  },
  {
   "cell_type": "code",
   "execution_count": 5,
   "id": "1be26f7a",
   "metadata": {},
   "outputs": [
    {
     "name": "stdout",
     "output_type": "stream",
     "text": [
      "one of them are true\n"
     ]
    }
   ],
   "source": [
    "a = 44\n",
    "b = 45\n",
    "if a > 20 or b > 50:\n",
    "    print(\"one of them are true\")\n",
    "\n"
   ]
  },
  {
   "attachments": {},
   "cell_type": "markdown",
   "id": "7de0e5b7",
   "metadata": {},
   "source": [
    "# Not\n",
    "The not keyword is a logical operator, and is used to reverse the result of the conditional statement:"
   ]
  },
  {
   "cell_type": "code",
   "execution_count": 9,
   "id": "504f99a1",
   "metadata": {},
   "outputs": [
    {
     "name": "stdout",
     "output_type": "stream",
     "text": [
      "a is smaller\n"
     ]
    }
   ],
   "source": [
    "a = 40 \n",
    "b = 50 \n",
    "if not a > b :\n",
    "    print(\"a is smaller\")\n",
    "else:\n",
    "    print(\"b is smaller\")"
   ]
  },
  {
   "attachments": {},
   "cell_type": "markdown",
   "id": "bcaf6f67",
   "metadata": {},
   "source": [
    "# Nested If\n",
    "You can have if statements inside if statements, this is called nested if statements."
   ]
  },
  {
   "cell_type": "code",
   "execution_count": 14,
   "id": "798fd44d",
   "metadata": {},
   "outputs": [
    {
     "name": "stdout",
     "output_type": "stream",
     "text": [
      "above the 10\n",
      "above 20\n",
      "above 30\n",
      "not above 40\n"
     ]
    }
   ],
   "source": [
    "a = 35 \n",
    "if a > 10:\n",
    "    print(\"above the 10\")\n",
    "    \n",
    "    if a > 20 :\n",
    "        print(\"above 20\")\n",
    "\n",
    "        if a > 30:\n",
    "            print(\"above 30\")\n",
    "            \n",
    "            if a > 40:\n",
    "                print(\"above 40\")\n",
    "            else:\n",
    "                print(\"not above 40\")\n",
    "else:\n",
    "    print(\"smaller than 10\")"
   ]
  },
  {
   "attachments": {},
   "cell_type": "markdown",
   "id": "2a141ee7",
   "metadata": {},
   "source": [
    "# The pass Statement\n",
    "if statements cannot be empty, but if you for some reason have an if statement with no content, put in the pass statement to avoid getting an error."
   ]
  },
  {
   "cell_type": "code",
   "execution_count": 16,
   "id": "095e2e82",
   "metadata": {},
   "outputs": [
    {
     "name": "stdout",
     "output_type": "stream",
     "text": [
      "above 30\n"
     ]
    }
   ],
   "source": [
    "a = 45 \n",
    "if a > 10:\n",
    "    pass # not execute or skip \n",
    "if a > 30:\n",
    "    print(\"above 30\")\n"
   ]
  },
  {
   "cell_type": "code",
   "execution_count": null,
   "id": "236e2bb0",
   "metadata": {},
   "outputs": [],
   "source": []
  }
 ],
 "metadata": {
  "kernelspec": {
   "display_name": "Python 3 (ipykernel)",
   "language": "python",
   "name": "python3"
  },
  "language_info": {
   "codemirror_mode": {
    "name": "ipython",
    "version": 3
   },
   "file_extension": ".py",
   "mimetype": "text/x-python",
   "name": "python",
   "nbconvert_exporter": "python",
   "pygments_lexer": "ipython3",
   "version": "3.10.9"
  }
 },
 "nbformat": 4,
 "nbformat_minor": 5
}
