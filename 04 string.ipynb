{
 "cells": [
  {
   "cell_type": "markdown",
   "id": "0961dab2",
   "metadata": {},
   "source": [
    "# Strings\n",
    "\n",
    "Strings in python are surrounded by either single quotation marks, or double quotation marks. </br>\n",
    "'hello' is the same as \"hello\".</br>\n"
   ]
  },
  {
   "cell_type": "code",
   "execution_count": 1,
   "id": "fb81b4ca",
   "metadata": {},
   "outputs": [
    {
     "name": "stdout",
     "output_type": "stream",
     "text": [
      "hello\n"
     ]
    }
   ],
   "source": [
    "strg=\"hello\"\n",
    "print(strg)"
   ]
  },
  {
   "cell_type": "code",
   "execution_count": 8,
   "id": "85bc091c",
   "metadata": {},
   "outputs": [
    {
     "name": "stdout",
     "output_type": "stream",
     "text": [
      "tim said,\"i am busy\"\n"
     ]
    }
   ],
   "source": [
    "stg='tim said,\"i am busy\"'\n",
    "print(stg)"
   ]
  },
  {
   "cell_type": "code",
   "execution_count": 9,
   "id": "41a76fc8",
   "metadata": {},
   "outputs": [
    {
     "ename": "SyntaxError",
     "evalue": "invalid syntax (2099474523.py, line 1)",
     "output_type": "error",
     "traceback": [
      "\u001b[1;36m  File \u001b[1;32m\"C:\\Users\\LALIT SINGH\\AppData\\Local\\Temp\\ipykernel_5316\\2099474523.py\"\u001b[1;36m, line \u001b[1;32m1\u001b[0m\n\u001b[1;33m    stg='tom said,\"i'm busy\"'\u001b[0m\n\u001b[1;37m                     ^\u001b[0m\n\u001b[1;31mSyntaxError\u001b[0m\u001b[1;31m:\u001b[0m invalid syntax\n"
     ]
    }
   ],
   "source": [
    "stg='tom said,\"i'm busy\"'\n",
    "print(stg)"
   ]
  },
  {
   "cell_type": "code",
   "execution_count": 10,
   "id": "ff8067a4",
   "metadata": {},
   "outputs": [
    {
     "name": "stdout",
     "output_type": "stream",
     "text": [
      "tom said,\"i'm busy\"\n"
     ]
    }
   ],
   "source": [
    "stg='tom said,\"i\\'m busy\"'\n",
    "print(stg)"
   ]
  },
  {
   "cell_type": "markdown",
   "id": "5807cb21",
   "metadata": {},
   "source": [
    "#### Multiline string"
   ]
  },
  {
   "cell_type": "code",
   "execution_count": 11,
   "id": "dda30bc0",
   "metadata": {},
   "outputs": [
    {
     "name": "stdout",
     "output_type": "stream",
     "text": [
      "hello there\n",
      "welcome here🥱🥲😂\n",
      "\n"
     ]
    }
   ],
   "source": [
    "stg=\"\"\"hello there\n",
    "welcome here🥱🥲😂\n",
    "\"\"\"\n",
    "print(stg)"
   ]
  },
  {
   "cell_type": "markdown",
   "id": "3c2fcc67",
   "metadata": {},
   "source": [
    "#### printing the length"
   ]
  },
  {
   "cell_type": "code",
   "execution_count": 14,
   "id": "8765b8d8",
   "metadata": {},
   "outputs": [
    {
     "name": "stdout",
     "output_type": "stream",
     "text": [
      "5\n"
     ]
    }
   ],
   "source": [
    "stg=\"hello\"\n",
    "print(len(stg))"
   ]
  },
  {
   "cell_type": "code",
   "execution_count": 25,
   "id": "055c1ca7",
   "metadata": {},
   "outputs": [
    {
     "name": "stdout",
     "output_type": "stream",
     "text": [
      "e\n"
     ]
    }
   ],
   "source": [
    "print(stg[1]) # accessing through index"
   ]
  },
  {
   "cell_type": "markdown",
   "id": "012a8595",
   "metadata": {},
   "source": [
    "\n",
    "# Accessing through loop"
   ]
  },
  {
   "cell_type": "code",
   "execution_count": 18,
   "id": "9d245f9a",
   "metadata": {},
   "outputs": [
    {
     "name": "stdout",
     "output_type": "stream",
     "text": [
      "h\n",
      "e\n",
      "l\n",
      "l\n",
      "o\n"
     ]
    }
   ],
   "source": [
    "for i in stg:\n",
    "    print(i)"
   ]
  },
  {
   "cell_type": "code",
   "execution_count": 21,
   "id": "7f218be7",
   "metadata": {},
   "outputs": [
    {
     "name": "stdout",
     "output_type": "stream",
     "text": [
      "hello"
     ]
    }
   ],
   "source": [
    "for i in stg:\n",
    "    print(i,end=\"\")"
   ]
  },
  {
   "cell_type": "markdown",
   "id": "f9bee9c1",
   "metadata": {},
   "source": [
    "### Slicing"
   ]
  },
  {
   "cell_type": "code",
   "execution_count": 29,
   "id": "9a10ad1a",
   "metadata": {},
   "outputs": [
    {
     "name": "stdout",
     "output_type": "stream",
     "text": [
      "hello\n"
     ]
    }
   ],
   "source": [
    "print(stg)"
   ]
  },
  {
   "cell_type": "code",
   "execution_count": 24,
   "id": "efe16317",
   "metadata": {},
   "outputs": [
    {
     "name": "stdout",
     "output_type": "stream",
     "text": [
      "hell\n",
      "ell\n",
      "olleh\n"
     ]
    }
   ],
   "source": [
    "print(stg[:4])#from 0 to 4th index\n",
    "print(stg[1:4])#from 1 to 4th index\n",
    "print(stg[::-1])#reverse orderD"
   ]
  },
  {
   "cell_type": "markdown",
   "id": "dac5e4a3",
   "metadata": {},
   "source": [
    "# Methods\n"
   ]
  },
  {
   "cell_type": "code",
   "execution_count": 26,
   "id": "98a9cec1",
   "metadata": {},
   "outputs": [
    {
     "name": "stdout",
     "output_type": "stream",
     "text": [
      "HELLO\n",
      "hello\n",
      "1\n",
      "2\n"
     ]
    }
   ],
   "source": [
    "print(stg.upper()) #upper case print\n",
    "print(stg.lower()) #lower case print\n",
    "print(stg.find('e')) #finding the index\n",
    "print(stg.index('l')) #finding index\n"
   ]
  },
  {
   "cell_type": "code",
   "execution_count": 27,
   "id": "c11cb372",
   "metadata": {},
   "outputs": [
    {
     "name": "stdout",
     "output_type": "stream",
     "text": [
      "['h', 'llo']\n"
     ]
    }
   ],
   "source": [
    "print(stg.split('e')) #spliting the string from a keyword"
   ]
  },
  {
   "cell_type": "code",
   "execution_count": 38,
   "id": "79639429",
   "metadata": {},
   "outputs": [
    {
     "name": "stdout",
     "output_type": "stream",
     "text": [
      "hello to lalit\n"
     ]
    }
   ],
   "source": [
    "stg1=\"hello to world\"\n",
    "print(stg1.replace(\"world\",\"lalit\"))"
   ]
  },
  {
   "cell_type": "markdown",
   "id": "bd62a2c1",
   "metadata": {},
   "source": [
    "<h2 style=\"color:red;\">Converting string to tuple</h2>"
   ]
  },
  {
   "cell_type": "code",
   "execution_count": 40,
   "id": "d9c8d529",
   "metadata": {},
   "outputs": [
    {
     "name": "stdout",
     "output_type": "stream",
     "text": [
      "('hello', ' to ', 'world')\n"
     ]
    }
   ],
   "source": [
    "print(stg1.rpartition(\" to \"))"
   ]
  },
  {
   "cell_type": "markdown",
   "id": "c3321d0f",
   "metadata": {},
   "source": [
    "<h2 style=\"color:red;\">Concatination in string</h2>"
   ]
  },
  {
   "cell_type": "code",
   "execution_count": 41,
   "id": "791c48f8",
   "metadata": {},
   "outputs": [
    {
     "name": "stdout",
     "output_type": "stream",
     "text": [
      "hello morning\n"
     ]
    }
   ],
   "source": [
    "stg1=\"hello\"  #\n",
    "stg2=\"morning\"\n",
    "stg3=stg1 + \" \"+ stg2\n",
    "print(stg3)"
   ]
  },
  {
   "cell_type": "markdown",
   "id": "85b2232d",
   "metadata": {},
   "source": [
    "<h2 style=\"color:red;\">Formatting in string</h2>"
   ]
  },
  {
   "cell_type": "code",
   "execution_count": 42,
   "id": "3f8f9328",
   "metadata": {},
   "outputs": [
    {
     "name": "stdout",
     "output_type": "stream",
     "text": [
      "hey there,all!\n"
     ]
    }
   ],
   "source": [
    "stg1=\"hey\"\n",
    "stg2=\"there\"\n",
    "stg3=\"all\"\n",
    "stg=\"{} {},{}!\".format(stg1,stg2,stg3)\n",
    "print(stg)"
   ]
  },
  {
   "cell_type": "code",
   "execution_count": null,
   "id": "f6987f5c",
   "metadata": {},
   "outputs": [],
   "source": []
  }
 ],
 "metadata": {
  "kernelspec": {
   "display_name": "Python 3 (ipykernel)",
   "language": "python",
   "name": "python3"
  },
  "language_info": {
   "codemirror_mode": {
    "name": "ipython",
    "version": 3
   },
   "file_extension": ".py",
   "mimetype": "text/x-python",
   "name": "python",
   "nbconvert_exporter": "python",
   "pygments_lexer": "ipython3",
   "version": "3.9.13"
  }
 },
 "nbformat": 4,
 "nbformat_minor": 5
}
