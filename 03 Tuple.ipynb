{
 "cells": [
  {
   "cell_type": "markdown",
   "id": "b9d1a2c1",
   "metadata": {},
   "source": [
    "# Tuple\n",
    "*__Tuples are used to store multiple items in a single variable.__*\n",
    "\n",
    "*__Tuple is one of 4 built-in data types in Python used to store collections of data, the other 3 are List, Set, and Dictionary, all with different qualities and usage.__*\n",
    "\n",
    "*__A tuple is a collection which is ordered and unchangeable.__*\n",
    "\n",
    "*__Tuples are written with round brackets.__*"
   ]
  },
  {
   "cell_type": "markdown",
   "id": "4892f1b3",
   "metadata": {},
   "source": [
    "## creating Tuple"
   ]
  },
  {
   "cell_type": "markdown",
   "id": "e753bddc",
   "metadata": {},
   "source": [
    "##### Empty Tuple"
   ]
  },
  {
   "cell_type": "code",
   "execution_count": 3,
   "id": "e9f27de5",
   "metadata": {},
   "outputs": [],
   "source": [
    "emp =()\n",
    "# creating empty tuple"
   ]
  },
  {
   "cell_type": "code",
   "execution_count": 2,
   "id": "65ce3261",
   "metadata": {},
   "outputs": [
    {
     "data": {
      "text/plain": [
       "tuple"
      ]
     },
     "execution_count": 2,
     "metadata": {},
     "output_type": "execute_result"
    }
   ],
   "source": [
    "type(emp)"
   ]
  },
  {
   "cell_type": "markdown",
   "id": "b8e327e4",
   "metadata": {},
   "source": [
    "#### Method of creating tuple"
   ]
  },
  {
   "cell_type": "code",
   "execution_count": 8,
   "id": "f543062f",
   "metadata": {},
   "outputs": [
    {
     "name": "stdout",
     "output_type": "stream",
     "text": [
      "('haldwani',)\n"
     ]
    }
   ],
   "source": [
    "city=\"haldwani\",\n",
    "print(city)"
   ]
  },
  {
   "cell_type": "code",
   "execution_count": 5,
   "id": "a552a911",
   "metadata": {},
   "outputs": [
    {
     "data": {
      "text/plain": [
       "tuple"
      ]
     },
     "execution_count": 5,
     "metadata": {},
     "output_type": "execute_result"
    }
   ],
   "source": [
    "type(city)"
   ]
  },
  {
   "cell_type": "code",
   "execution_count": 20,
   "id": "a6b6820a",
   "metadata": {},
   "outputs": [
    {
     "name": "stdout",
     "output_type": "stream",
     "text": [
      "('haldwani', 'kiccha')\n"
     ]
    },
    {
     "data": {
      "text/plain": [
       "tuple"
      ]
     },
     "execution_count": 20,
     "metadata": {},
     "output_type": "execute_result"
    }
   ],
   "source": [
    "city=(\"haldwani\",\"kiccha\")\n",
    "print(city)\n",
    "type(city)"
   ]
  },
  {
   "cell_type": "markdown",
   "id": "d2ebe2f5",
   "metadata": {},
   "source": [
    "## Diffrence between List and Tuple\n"
   ]
  },
  {
   "cell_type": "markdown",
   "id": "7127d1d4",
   "metadata": {},
   "source": [
    "##### Important differences between List and Tuple in Python\n",
    "\n",
    "\n",
    "<Table style=\"text-align: left;\">\n",
    "    <tr  > <td style=\"text-align: left;\">SR.NO.</td>\t<td style=\"text-align: left;\">LIST</td >\t<td style=\"text-align: left;\">TUPLE</td></tr>\n",
    "    <tr><td>1\t<td style=\"text-align: left;\">Lists are mutable</td>\t<td style=\"text-align: left;\">Tuples are immutable</td></tr>\n",
    "<tr><td>2</td>\t<td style=\"text-align: left;\">The implication of iterations is Time-consuming</td>\t<td style=\"text-align: left;\">The implication of iterations is comparatively Faster</td></tr>\n",
    "<tr><td>3</td>\t<td style=\"text-align: left;\">The list is better for performing operations, such as insertion and deletion.</td>\t<td style=\"text-align: left;\">Tuple data type is appropriate for accessing the elements</td></tr>\n",
    "<tr><td>4</td>\t<td style=\"text-align: left;\">Lists consume more memory</td>\t<td style=\"text-align: left;\">Tuple consumes less memory as compared to the list</td></tr>\n",
    "<tr><td>5</td>\t<td style=\"text-align: left;\">Lists have several built-in methods\t</td><td style=\"text-align: left;\">Tuple does not have many built-in methods.</td></tr>\n",
    "<tr><td>6</td>\t<td style=\"text-align: left;\">The unexpected changes and errors are more likely to occur</td>\t<td style=\"text-align: left;\">In tuple, it is hard to take place.</td></tr></table>"
   ]
  },
  {
   "cell_type": "code",
   "execution_count": 6,
   "id": "d8fe4d8e",
   "metadata": {},
   "outputs": [
    {
     "name": "stdout",
     "output_type": "stream",
     "text": [
      "[1, 2, 3, 4, 5]\n"
     ]
    }
   ],
   "source": [
    "list1=[1,2,3,4]\n",
    "tuple1=(1,2,3,4)\n",
    "list1.append(5)\n",
    "print(list1)"
   ]
  },
  {
   "cell_type": "code",
   "execution_count": 13,
   "id": "695d434d",
   "metadata": {},
   "outputs": [
    {
     "ename": "AttributeError",
     "evalue": "'tuple' object has no attribute 'append'",
     "output_type": "error",
     "traceback": [
      "\u001b[1;31m---------------------------------------------------------------------------\u001b[0m",
      "\u001b[1;31mAttributeError\u001b[0m                            Traceback (most recent call last)",
      "\u001b[1;32m~\\AppData\\Local\\Temp\\ipykernel_6312\\3771248868.py\u001b[0m in \u001b[0;36m<module>\u001b[1;34m\u001b[0m\n\u001b[1;32m----> 1\u001b[1;33m \u001b[0mtuple1\u001b[0m\u001b[1;33m.\u001b[0m\u001b[0mappend\u001b[0m\u001b[1;33m(\u001b[0m\u001b[1;36m5\u001b[0m\u001b[1;33m)\u001b[0m\u001b[1;31m#tupple can't be modified\u001b[0m\u001b[1;33m\u001b[0m\u001b[1;33m\u001b[0m\u001b[0m\n\u001b[0m",
      "\u001b[1;31mAttributeError\u001b[0m: 'tuple' object has no attribute 'append'"
     ]
    }
   ],
   "source": [
    "tuple1.append(5)#tupple can't be modified"
   ]
  },
  {
   "cell_type": "markdown",
   "id": "d4c91265",
   "metadata": {},
   "source": [
    "### Accessing the tuple from index"
   ]
  },
  {
   "cell_type": "code",
   "execution_count": 14,
   "id": "d44f4ca7",
   "metadata": {},
   "outputs": [
    {
     "name": "stdout",
     "output_type": "stream",
     "text": [
      "(1, 2, 3, 4)\n"
     ]
    }
   ],
   "source": [
    "print(tuple1)"
   ]
  },
  {
   "cell_type": "code",
   "execution_count": 16,
   "id": "a1677776",
   "metadata": {},
   "outputs": [
    {
     "data": {
      "text/plain": [
       "3"
      ]
     },
     "execution_count": 16,
     "metadata": {},
     "output_type": "execute_result"
    }
   ],
   "source": [
    "tuple1[2]"
   ]
  },
  {
   "cell_type": "code",
   "execution_count": 10,
   "id": "9dac80e3",
   "metadata": {},
   "outputs": [
    {
     "data": {
      "text/plain": [
       "4"
      ]
     },
     "execution_count": 10,
     "metadata": {},
     "output_type": "execute_result"
    }
   ],
   "source": [
    "tuple1[-1]"
   ]
  },
  {
   "cell_type": "markdown",
   "id": "2ccf58ad",
   "metadata": {},
   "source": [
    "## Method in tuple\n"
   ]
  },
  {
   "cell_type": "markdown",
   "id": "11814244",
   "metadata": {},
   "source": [
    "#### 1. Concatention"
   ]
  },
  {
   "cell_type": "code",
   "execution_count": 22,
   "id": "7f080176",
   "metadata": {},
   "outputs": [
    {
     "name": "stdout",
     "output_type": "stream",
     "text": [
      "('haldwani', 'kiccha')\n"
     ]
    }
   ],
   "source": [
    "print(city)"
   ]
  },
  {
   "cell_type": "code",
   "execution_count": 12,
   "id": "6598eba8",
   "metadata": {},
   "outputs": [],
   "source": [
    "num=1,2,5"
   ]
  },
  {
   "cell_type": "code",
   "execution_count": 24,
   "id": "eb1bb517",
   "metadata": {},
   "outputs": [
    {
     "name": "stdout",
     "output_type": "stream",
     "text": [
      "('haldwani', 'kiccha', 1, 2, 5)\n"
     ]
    }
   ],
   "source": [
    "print(city+num)"
   ]
  },
  {
   "cell_type": "markdown",
   "id": "8b27f77e",
   "metadata": {},
   "source": [
    "#### 2.Nesting"
   ]
  },
  {
   "cell_type": "code",
   "execution_count": 25,
   "id": "979adf1b",
   "metadata": {},
   "outputs": [
    {
     "name": "stdout",
     "output_type": "stream",
     "text": [
      "(('haldwani', 'kiccha'), (1, 2, 5))\n"
     ]
    }
   ],
   "source": [
    "nest1=(city,num)\n",
    "print(nest1)"
   ]
  },
  {
   "cell_type": "markdown",
   "id": "bdbfbf04",
   "metadata": {},
   "source": [
    "#### 3.Repetition\n"
   ]
  },
  {
   "cell_type": "code",
   "execution_count": 27,
   "id": "d5616fe7",
   "metadata": {},
   "outputs": [
    {
     "name": "stdout",
     "output_type": "stream",
     "text": [
      "('lalit', 'lalit', 'lalit', 'lalit', 'lalit', 'lalit', 'lalit', 'lalit', 'lalit', 'lalit')\n"
     ]
    }
   ],
   "source": [
    "rep=(\"lalit\",)*10\n",
    "print(rep)"
   ]
  },
  {
   "cell_type": "code",
   "execution_count": 29,
   "id": "312e9877",
   "metadata": {},
   "outputs": [
    {
     "name": "stdout",
     "output_type": "stream",
     "text": [
      "('lalit', 'lalit', 'lalit', 'lalit', 'lalit', 'lalit', 'lalit', 'lalit', 'lalit', 'lalit')\n"
     ]
    }
   ],
   "source": [
    "rep=(\"lalit\",)\n",
    "print(rep*10)#not modifing the rep tuple only printing 10 times"
   ]
  },
  {
   "cell_type": "markdown",
   "id": "ed2abb3f",
   "metadata": {},
   "source": [
    "#### 4. Slicing"
   ]
  },
  {
   "cell_type": "code",
   "execution_count": 13,
   "id": "611e6753",
   "metadata": {},
   "outputs": [
    {
     "data": {
      "text/plain": [
       "(1, 2, 5)"
      ]
     },
     "execution_count": 13,
     "metadata": {},
     "output_type": "execute_result"
    }
   ],
   "source": [
    "num"
   ]
  },
  {
   "cell_type": "code",
   "execution_count": 15,
   "id": "f21a1107",
   "metadata": {},
   "outputs": [
    {
     "data": {
      "text/plain": [
       "(2, 5)"
      ]
     },
     "execution_count": 15,
     "metadata": {},
     "output_type": "execute_result"
    }
   ],
   "source": [
    "num[1:]"
   ]
  },
  {
   "cell_type": "code",
   "execution_count": 20,
   "id": "f4d35780",
   "metadata": {},
   "outputs": [
    {
     "data": {
      "text/plain": [
       "(5, 2, 1)"
      ]
     },
     "execution_count": 20,
     "metadata": {},
     "output_type": "execute_result"
    }
   ],
   "source": [
    "num[::-1] #printing through reverse order"
   ]
  },
  {
   "cell_type": "markdown",
   "id": "d69617aa",
   "metadata": {},
   "source": [
    "# UnPacking"
   ]
  },
  {
   "cell_type": "code",
   "execution_count": 1,
   "id": "e5866228",
   "metadata": {},
   "outputs": [
    {
     "data": {
      "text/plain": [
       "('l', 'a', 'l', 'i', 't')"
      ]
     },
     "execution_count": 1,
     "metadata": {},
     "output_type": "execute_result"
    }
   ],
   "source": [
    "tuple(\"lalit\")"
   ]
  },
  {
   "cell_type": "code",
   "execution_count": 3,
   "id": "de407be3",
   "metadata": {},
   "outputs": [],
   "source": [
    "num=1,2,3,4"
   ]
  },
  {
   "cell_type": "code",
   "execution_count": 4,
   "id": "faba3dda",
   "metadata": {},
   "outputs": [],
   "source": [
    "a,b,c,d=num"
   ]
  },
  {
   "cell_type": "code",
   "execution_count": 5,
   "id": "013c77e7",
   "metadata": {},
   "outputs": [
    {
     "name": "stdout",
     "output_type": "stream",
     "text": [
      "1\n",
      "2\n",
      "3\n",
      "4\n"
     ]
    }
   ],
   "source": [
    "print(a)\n",
    "print(b)\n",
    "print(c)\n",
    "print(d)"
   ]
  },
  {
   "cell_type": "code",
   "execution_count": 7,
   "id": "d6a4c550",
   "metadata": {},
   "outputs": [
    {
     "name": "stdout",
     "output_type": "stream",
     "text": [
      "1\n",
      "[2, 3]\n",
      "4\n"
     ]
    }
   ],
   "source": [
    "a,*b,c=num\n",
    "print(a)\n",
    "print(b)\n",
    "print(c)"
   ]
  },
  {
   "cell_type": "markdown",
   "id": "eac437f0",
   "metadata": {},
   "source": [
    "# Deleting a tuple\n",
    "\n"
   ]
  },
  {
   "cell_type": "code",
   "execution_count": 9,
   "id": "9ada4301",
   "metadata": {},
   "outputs": [
    {
     "name": "stdout",
     "output_type": "stream",
     "text": [
      "(1, 3, 'lalit')\n"
     ]
    }
   ],
   "source": [
    "tuple1=(1,3,\"lalit\")\n",
    "print(tuple1)"
   ]
  },
  {
   "cell_type": "code",
   "execution_count": 10,
   "id": "12b711d9",
   "metadata": {},
   "outputs": [],
   "source": [
    "del tuple1"
   ]
  },
  {
   "cell_type": "code",
   "execution_count": 11,
   "id": "7d1f41fb",
   "metadata": {},
   "outputs": [
    {
     "ename": "NameError",
     "evalue": "name 'tuple1' is not defined",
     "output_type": "error",
     "traceback": [
      "\u001b[1;31m---------------------------------------------------------------------------\u001b[0m",
      "\u001b[1;31mNameError\u001b[0m                                 Traceback (most recent call last)",
      "\u001b[1;32m~\\AppData\\Local\\Temp\\ipykernel_16364\\2165157509.py\u001b[0m in \u001b[0;36m<module>\u001b[1;34m\u001b[0m\n\u001b[1;32m----> 1\u001b[1;33m \u001b[0mprint\u001b[0m\u001b[1;33m(\u001b[0m\u001b[0mtuple1\u001b[0m\u001b[1;33m)\u001b[0m\u001b[1;33m\u001b[0m\u001b[1;33m\u001b[0m\u001b[0m\n\u001b[0m",
      "\u001b[1;31mNameError\u001b[0m: name 'tuple1' is not defined"
     ]
    }
   ],
   "source": [
    "print(tuple1)"
   ]
  },
  {
   "cell_type": "markdown",
   "id": "d185d2a3",
   "metadata": {},
   "source": [
    "# Built in Function"
   ]
  },
  {
   "cell_type": "code",
   "execution_count": 12,
   "id": "59c05f7f",
   "metadata": {},
   "outputs": [],
   "source": [
    "num1=(2,4,8,8,8,7)"
   ]
  },
  {
   "cell_type": "code",
   "execution_count": 15,
   "id": "2b8ab815",
   "metadata": {},
   "outputs": [
    {
     "data": {
      "text/plain": [
       "3"
      ]
     },
     "execution_count": 15,
     "metadata": {},
     "output_type": "execute_result"
    }
   ],
   "source": [
    "num1.count(8)# to count occurance of a number"
   ]
  },
  {
   "cell_type": "code",
   "execution_count": 14,
   "id": "85028e1b",
   "metadata": {},
   "outputs": [
    {
     "data": {
      "text/plain": [
       "37"
      ]
     },
     "execution_count": 14,
     "metadata": {},
     "output_type": "execute_result"
    }
   ],
   "source": [
    "sum(num1)"
   ]
  },
  {
   "cell_type": "code",
   "execution_count": 16,
   "id": "0977f09e",
   "metadata": {},
   "outputs": [
    {
     "data": {
      "text/plain": [
       "6"
      ]
     },
     "execution_count": 16,
     "metadata": {},
     "output_type": "execute_result"
    }
   ],
   "source": [
    "len(num1)"
   ]
  },
  {
   "cell_type": "code",
   "execution_count": 17,
   "id": "c783305d",
   "metadata": {},
   "outputs": [
    {
     "data": {
      "text/plain": [
       "8"
      ]
     },
     "execution_count": 17,
     "metadata": {},
     "output_type": "execute_result"
    }
   ],
   "source": [
    "max(num1)"
   ]
  },
  {
   "cell_type": "code",
   "execution_count": 18,
   "id": "054b946d",
   "metadata": {},
   "outputs": [
    {
     "data": {
      "text/plain": [
       "2"
      ]
     },
     "execution_count": 18,
     "metadata": {},
     "output_type": "execute_result"
    }
   ],
   "source": [
    "min(num1)"
   ]
  },
  {
   "cell_type": "markdown",
   "id": "ea7de60d",
   "metadata": {},
   "source": [
    "# Converting list to tuple"
   ]
  },
  {
   "cell_type": "code",
   "execution_count": 19,
   "id": "b13d3db3",
   "metadata": {},
   "outputs": [
    {
     "name": "stdout",
     "output_type": "stream",
     "text": [
      "<class 'list'>\n"
     ]
    }
   ],
   "source": [
    "lst=[1,2,3,4,5] #list\n",
    "print(type(lst))"
   ]
  },
  {
   "cell_type": "code",
   "execution_count": 20,
   "id": "e104a07d",
   "metadata": {},
   "outputs": [],
   "source": [
    "tpl =tuple(lst)#coversion of list to tuple"
   ]
  },
  {
   "cell_type": "markdown",
   "id": "7227cfe8",
   "metadata": {},
   "source": [
    "# Nesting tuples in a list"
   ]
  },
  {
   "cell_type": "code",
   "execution_count": 22,
   "id": "f9b2edc6",
   "metadata": {},
   "outputs": [],
   "source": [
    "lst =[(1,5,4),(\"lalit\",\"singh\",\"trickster\")]"
   ]
  },
  {
   "cell_type": "code",
   "execution_count": 23,
   "id": "c35936d4",
   "metadata": {},
   "outputs": [
    {
     "name": "stdout",
     "output_type": "stream",
     "text": [
      "[(1, 5, 4), ('lalit', 'singh', 'trickster')]\n"
     ]
    }
   ],
   "source": [
    "print(lst)"
   ]
  },
  {
   "cell_type": "code",
   "execution_count": 24,
   "id": "ab08b5b6",
   "metadata": {},
   "outputs": [
    {
     "name": "stdout",
     "output_type": "stream",
     "text": [
      "[(1, 5, 4), ('lalit', 'singh', 'trickster'), (12, 'lalit')]\n"
     ]
    }
   ],
   "source": [
    "lst.append((12,\"lalit\")) #adding new tuple to a list\n",
    "print(lst)"
   ]
  },
  {
   "cell_type": "code",
   "execution_count": 25,
   "id": "1f2bdc7c",
   "metadata": {},
   "outputs": [
    {
     "name": "stdout",
     "output_type": "stream",
     "text": [
      "[('lalit', 'singh', 'trickster'), (12, 'lalit')]\n"
     ]
    }
   ],
   "source": [
    "lst.remove((1,5,4)) #removing tuple to a list\n",
    "print(lst)"
   ]
  },
  {
   "cell_type": "code",
   "execution_count": 27,
   "id": "b640ee76",
   "metadata": {},
   "outputs": [
    {
     "name": "stdout",
     "output_type": "stream",
     "text": [
      "trickster\n"
     ]
    }
   ],
   "source": [
    "print(lst[0][2])#print the 2nd index of tuple from the 0th index of list"
   ]
  },
  {
   "cell_type": "markdown",
   "id": "d6c1c7ce",
   "metadata": {},
   "source": [
    "# nesting List in Tuple"
   ]
  },
  {
   "cell_type": "code",
   "execution_count": 28,
   "id": "0c7799c9",
   "metadata": {},
   "outputs": [
    {
     "name": "stdout",
     "output_type": "stream",
     "text": [
      "([1, 2, 3, 4], [4, 'lalit'])\n"
     ]
    }
   ],
   "source": [
    "tpl=([1,2,3,4],[4,\"lalit\"])\n",
    "print(tpl)"
   ]
  },
  {
   "cell_type": "code",
   "execution_count": 30,
   "id": "2c4280f0",
   "metadata": {},
   "outputs": [
    {
     "name": "stdout",
     "output_type": "stream",
     "text": [
      "([1, 2, 3, 4, 'hello', 'hello'], [4, 'lalit'])\n"
     ]
    }
   ],
   "source": [
    "tpl[0].append(\"hello\")#appending the element in 0th index of tuple having list\n",
    "print(tpl)"
   ]
  },
  {
   "cell_type": "code",
   "execution_count": null,
   "id": "20c9c8fd",
   "metadata": {},
   "outputs": [],
   "source": []
  }
 ],
 "metadata": {
  "kernelspec": {
   "display_name": "Python 3 (ipykernel)",
   "language": "python",
   "name": "python3"
  },
  "language_info": {
   "codemirror_mode": {
    "name": "ipython",
    "version": 3
   },
   "file_extension": ".py",
   "mimetype": "text/x-python",
   "name": "python",
   "nbconvert_exporter": "python",
   "pygments_lexer": "ipython3",
   "version": "3.9.13"
  }
 },
 "nbformat": 4,
 "nbformat_minor": 5
}
