{
 "cells": [
  {
   "cell_type": "markdown",
   "id": "b9d1a2c1",
   "metadata": {},
   "source": [
    "# Tuple\n",
    "*__Tuples are used to store multiple items in a single variable.__*\n",
    "\n",
    "*__Tuple is one of 4 built-in data types in Python used to store collections of data, the other 3 are List, Set, and Dictionary, all with different qualities and usage.__*\n",
    "\n",
    "*__A tuple is a collection which is ordered and unchangeable.__*\n",
    "\n",
    "*__Tuples are written with round brackets.__*"
   ]
  },
  {
   "cell_type": "markdown",
   "id": "4892f1b3",
   "metadata": {},
   "source": [
    "## creating Tuple"
   ]
  },
  {
   "cell_type": "markdown",
   "id": "e753bddc",
   "metadata": {},
   "source": [
    "##### Empty Tuple"
   ]
  },
  {
   "cell_type": "code",
   "execution_count": 3,
   "id": "e9f27de5",
   "metadata": {},
   "outputs": [],
   "source": [
    "emp =()\n",
    "# creating empty tuple"
   ]
  },
  {
   "cell_type": "code",
   "execution_count": 2,
   "id": "65ce3261",
   "metadata": {},
   "outputs": [
    {
     "data": {
      "text/plain": [
       "tuple"
      ]
     },
     "execution_count": 2,
     "metadata": {},
     "output_type": "execute_result"
    }
   ],
   "source": [
    "type(emp)"
   ]
  },
  {
   "cell_type": "markdown",
   "id": "b8e327e4",
   "metadata": {},
   "source": [
    "#### Method of creating tuple"
   ]
  },
  {
   "cell_type": "code",
   "execution_count": 8,
   "id": "f543062f",
   "metadata": {},
   "outputs": [
    {
     "name": "stdout",
     "output_type": "stream",
     "text": [
      "('haldwani',)\n"
     ]
    }
   ],
   "source": [
    "city=\"haldwani\",\n",
    "print(city)"
   ]
  },
  {
   "cell_type": "code",
   "execution_count": 5,
   "id": "a552a911",
   "metadata": {},
   "outputs": [
    {
     "data": {
      "text/plain": [
       "tuple"
      ]
     },
     "execution_count": 5,
     "metadata": {},
     "output_type": "execute_result"
    }
   ],
   "source": [
    "type(city)"
   ]
  },
  {
   "cell_type": "code",
   "execution_count": 20,
   "id": "a6b6820a",
   "metadata": {},
   "outputs": [
    {
     "name": "stdout",
     "output_type": "stream",
     "text": [
      "('haldwani', 'kiccha')\n"
     ]
    },
    {
     "data": {
      "text/plain": [
       "tuple"
      ]
     },
     "execution_count": 20,
     "metadata": {},
     "output_type": "execute_result"
    }
   ],
   "source": [
    "city=(\"haldwani\",\"kiccha\")\n",
    "print(city)\n",
    "type(city)"
   ]
  },
  {
   "cell_type": "markdown",
   "id": "d2ebe2f5",
   "metadata": {},
   "source": [
    "## Diffrence between List and Tuple\n"
   ]
  },
  {
   "cell_type": "markdown",
   "id": "7127d1d4",
   "metadata": {},
   "source": [
    "##### Important differences between List and Tuple in Python\n",
    "\n",
    "\n",
    "<Table style=\"text-align: left;\">\n",
    "    <tr  > <td style=\"text-align: left;\">SR.NO.</td>\t<td style=\"text-align: left;\">LIST</td >\t<td style=\"text-align: left;\">TUPLE</td></tr>\n",
    "    <tr><td>1\t<td style=\"text-align: left;\">Lists are mutable</td>\t<td style=\"text-align: left;\">Tuples are immutable</td></tr>\n",
    "<tr><td>2</td>\t<td style=\"text-align: left;\">The implication of iterations is Time-consuming</td>\t<td style=\"text-align: left;\">The implication of iterations is comparatively Faster</td></tr>\n",
    "<tr><td>3</td>\t<td style=\"text-align: left;\">The list is better for performing operations, such as insertion and deletion.</td>\t<td style=\"text-align: left;\">Tuple data type is appropriate for accessing the elements</td></tr>\n",
    "<tr><td>4</td>\t<td style=\"text-align: left;\">Lists consume more memory</td>\t<td style=\"text-align: left;\">Tuple consumes less memory as compared to the list</td></tr>\n",
    "<tr><td>5</td>\t<td style=\"text-align: left;\">Lists have several built-in methods\t</td><td style=\"text-align: left;\">Tuple does not have many built-in methods.</td></tr>\n",
    "<tr><td>6</td>\t<td style=\"text-align: left;\">The unexpected changes and errors are more likely to occur</td>\t<td style=\"text-align: left;\">In tuple, it is hard to take place.</td></tr></table>"
   ]
  },
  {
   "cell_type": "code",
   "execution_count": 6,
   "id": "d8fe4d8e",
   "metadata": {},
   "outputs": [
    {
     "name": "stdout",
     "output_type": "stream",
     "text": [
      "[1, 2, 3, 4, 5]\n"
     ]
    }
   ],
   "source": [
    "list1=[1,2,3,4]\n",
    "tuple1=(1,2,3,4)\n",
    "list1.append(5)\n",
    "print(list1)"
   ]
  },
  {
   "cell_type": "code",
   "execution_count": 13,
   "id": "695d434d",
   "metadata": {},
   "outputs": [
    {
     "ename": "AttributeError",
     "evalue": "'tuple' object has no attribute 'append'",
     "output_type": "error",
     "traceback": [
      "\u001b[1;31m---------------------------------------------------------------------------\u001b[0m",
      "\u001b[1;31mAttributeError\u001b[0m                            Traceback (most recent call last)",
      "\u001b[1;32m~\\AppData\\Local\\Temp\\ipykernel_6312\\3771248868.py\u001b[0m in \u001b[0;36m<module>\u001b[1;34m\u001b[0m\n\u001b[1;32m----> 1\u001b[1;33m \u001b[0mtuple1\u001b[0m\u001b[1;33m.\u001b[0m\u001b[0mappend\u001b[0m\u001b[1;33m(\u001b[0m\u001b[1;36m5\u001b[0m\u001b[1;33m)\u001b[0m\u001b[1;31m#tupple can't be modified\u001b[0m\u001b[1;33m\u001b[0m\u001b[1;33m\u001b[0m\u001b[0m\n\u001b[0m",
      "\u001b[1;31mAttributeError\u001b[0m: 'tuple' object has no attribute 'append'"
     ]
    }
   ],
   "source": [
    "tuple1.append(5)#tupple can't be modified"
   ]
  },
  {
   "cell_type": "markdown",
   "id": "d4c91265",
   "metadata": {},
   "source": [
    "### Accessing the tuple from index"
   ]
  },
  {
   "cell_type": "code",
   "execution_count": 14,
   "id": "d44f4ca7",
   "metadata": {},
   "outputs": [
    {
     "name": "stdout",
     "output_type": "stream",
     "text": [
      "(1, 2, 3, 4)\n"
     ]
    }
   ],
   "source": [
    "print(tuple1)"
   ]
  },
  {
   "cell_type": "code",
   "execution_count": 16,
   "id": "a1677776",
   "metadata": {},
   "outputs": [
    {
     "data": {
      "text/plain": [
       "3"
      ]
     },
     "execution_count": 16,
     "metadata": {},
     "output_type": "execute_result"
    }
   ],
   "source": [
    "tuple1[2]"
   ]
  },
  {
   "cell_type": "code",
   "execution_count": 10,
   "id": "9dac80e3",
   "metadata": {},
   "outputs": [
    {
     "data": {
      "text/plain": [
       "4"
      ]
     },
     "execution_count": 10,
     "metadata": {},
     "output_type": "execute_result"
    }
   ],
   "source": [
    "tuple1[-1]"
   ]
  },
  {
   "cell_type": "markdown",
   "id": "2ccf58ad",
   "metadata": {},
   "source": [
    "## Method in tuple\n"
   ]
  },
  {
   "cell_type": "markdown",
   "id": "11814244",
   "metadata": {},
   "source": [
    "#### 1. Concatention"
   ]
  },
  {
   "cell_type": "code",
   "execution_count": 22,
   "id": "7f080176",
   "metadata": {},
   "outputs": [
    {
     "name": "stdout",
     "output_type": "stream",
     "text": [
      "('haldwani', 'kiccha')\n"
     ]
    }
   ],
   "source": [
    "print(city)"
   ]
  },
  {
   "cell_type": "code",
   "execution_count": 12,
   "id": "6598eba8",
   "metadata": {},
   "outputs": [],
   "source": [
    "num=1,2,5"
   ]
  },
  {
   "cell_type": "code",
   "execution_count": 24,
   "id": "eb1bb517",
   "metadata": {},
   "outputs": [
    {
     "name": "stdout",
     "output_type": "stream",
     "text": [
      "('haldwani', 'kiccha', 1, 2, 5)\n"
     ]
    }
   ],
   "source": [
    "print(city+num)"
   ]
  },
  {
   "cell_type": "markdown",
   "id": "8b27f77e",
   "metadata": {},
   "source": [
    "#### 2.Nesting"
   ]
  },
  {
   "cell_type": "code",
   "execution_count": 25,
   "id": "979adf1b",
   "metadata": {},
   "outputs": [
    {
     "name": "stdout",
     "output_type": "stream",
     "text": [
      "(('haldwani', 'kiccha'), (1, 2, 5))\n"
     ]
    }
   ],
   "source": [
    "nest1=(city,num)\n",
    "print(nest1)"
   ]
  },
  {
   "cell_type": "markdown",
   "id": "bdbfbf04",
   "metadata": {},
   "source": [
    "#### 3.Repetition\n"
   ]
  },
  {
   "cell_type": "code",
   "execution_count": 27,
   "id": "d5616fe7",
   "metadata": {},
   "outputs": [
    {
     "name": "stdout",
     "output_type": "stream",
     "text": [
      "('lalit', 'lalit', 'lalit', 'lalit', 'lalit', 'lalit', 'lalit', 'lalit', 'lalit', 'lalit')\n"
     ]
    }
   ],
   "source": [
    "rep=(\"lalit\",)*10\n",
    "print(rep)"
   ]
  },
  {
   "cell_type": "code",
   "execution_count": 29,
   "id": "312e9877",
   "metadata": {},
   "outputs": [
    {
     "name": "stdout",
     "output_type": "stream",
     "text": [
      "('lalit', 'lalit', 'lalit', 'lalit', 'lalit', 'lalit', 'lalit', 'lalit', 'lalit', 'lalit')\n"
     ]
    }
   ],
   "source": [
    "rep=(\"lalit\",)\n",
    "print(rep*10)#not modifing the rep tuple only printing 10 times"
   ]
  },
  {
   "cell_type": "markdown",
   "id": "ed2abb3f",
   "metadata": {},
   "source": [
    "#### 4. Slicing"
   ]
  },
  {
   "cell_type": "code",
   "execution_count": 13,
   "id": "611e6753",
   "metadata": {},
   "outputs": [
    {
     "data": {
      "text/plain": [
       "(1, 2, 5)"
      ]
     },
     "execution_count": 13,
     "metadata": {},
     "output_type": "execute_result"
    }
   ],
   "source": [
    "num"
   ]
  },
  {
   "cell_type": "code",
   "execution_count": 15,
   "id": "f21a1107",
   "metadata": {},
   "outputs": [
    {
     "data": {
      "text/plain": [
       "(2, 5)"
      ]
     },
     "execution_count": 15,
     "metadata": {},
     "output_type": "execute_result"
    }
   ],
   "source": [
    "num[1:]"
   ]
  },
  {
   "cell_type": "code",
   "execution_count": 20,
   "id": "f4d35780",
   "metadata": {},
   "outputs": [
    {
     "data": {
      "text/plain": [
       "(5, 2, 1)"
      ]
     },
     "execution_count": 20,
     "metadata": {},
     "output_type": "execute_result"
    }
   ],
   "source": [
    "num[::-1] #printing through reverse order"
   ]
  },
  {
   "cell_type": "code",
   "execution_count": null,
   "id": "4f39e8ab",
   "metadata": {},
   "outputs": [],
   "source": []
  }
 ],
 "metadata": {
  "kernelspec": {
   "display_name": "Python 3 (ipykernel)",
   "language": "python",
   "name": "python3"
  },
  "language_info": {
   "codemirror_mode": {
    "name": "ipython",
    "version": 3
   },
   "file_extension": ".py",
   "mimetype": "text/x-python",
   "name": "python",
   "nbconvert_exporter": "python",
   "pygments_lexer": "ipython3",
   "version": "3.9.13"
  }
 },
 "nbformat": 4,
 "nbformat_minor": 5
}
