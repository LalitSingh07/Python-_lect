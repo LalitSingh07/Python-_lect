{
 "cells": [
  {
   "cell_type": "markdown",
   "id": "e0ac204d",
   "metadata": {},
   "source": [
    "# 1.headings and pointer \n",
    "\n",
    "\n",
    "\n",
    "\n",
    " use `##` for sub heading \n",
    "\n",
    "\n",
    "## this is sub heading\n",
    "\n",
    "## 2.run commands using ! or %\n",
    "\n",
    "\n",
    "## 3 shortcuts in juypter\n",
    "### use esc +\n",
    "M:switxh to markdown</br>\n",
    "a: create cells above</br>\n",
    "b: create new cell</br>\n",
    "D+D: delete a cells</br>\n",
    "y:switch to code </br>\n",
    "--------------------------------\n",
    "ctrl+enter :run cell and stay on cell</br>\n",
    "shift+enter: run cell and go to next</br>"
   ]
  },
  {
   "cell_type": "code",
   "execution_count": null,
   "id": "0b3c3bae",
   "metadata": {},
   "outputs": [],
   "source": []
  }
 ],
 "metadata": {
  "kernelspec": {
   "display_name": "Python 3 (ipykernel)",
   "language": "python",
   "name": "python3"
  },
  "language_info": {
   "codemirror_mode": {
    "name": "ipython",
    "version": 3
   },
   "file_extension": ".py",
   "mimetype": "text/x-python",
   "name": "python",
   "nbconvert_exporter": "python",
   "pygments_lexer": "ipython3",
   "version": "3.9.13"
  }
 },
 "nbformat": 4,
 "nbformat_minor": 5
}
