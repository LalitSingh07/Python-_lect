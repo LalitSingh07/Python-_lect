{
 "cells": [
  {
   "cell_type": "markdown",
   "id": "32aa5c51",
   "metadata": {},
   "source": [
    "# Tuple\n",
    "*__Tuples are used to store multiple items in a single variable.__*\n",
    "\n",
    "*__Tuple is one of 4 built-in data types in Python used to store collections of data, the other 3 are List, Set, and Dictionary, all with different qualities and usage.__*\n",
    "\n",
    "*__A tuple is a collection which is ordered and unchangeable.__*\n",
    "\n",
    "*__Tuples are written with round brackets.__*"
   ]
  },
  {
   "cell_type": "markdown",
   "id": "d705717a",
   "metadata": {},
   "source": [
    "## creating Tuple"
   ]
  },
  {
   "cell_type": "markdown",
   "id": "038f5440",
   "metadata": {},
   "source": [
    "##### Empty Tuple"
   ]
  },
  {
   "cell_type": "code",
   "execution_count": 3,
   "id": "860a39f3",
   "metadata": {},
   "outputs": [],
   "source": [
    "emp =()\n",
    "# creating empty tuple"
   ]
  },
  {
   "cell_type": "code",
   "execution_count": 2,
   "id": "d44d8e69",
   "metadata": {},
   "outputs": [
    {
     "data": {
      "text/plain": [
       "tuple"
      ]
     },
     "execution_count": 2,
     "metadata": {},
     "output_type": "execute_result"
    }
   ],
   "source": [
    "type(emp)"
   ]
  },
  {
   "cell_type": "markdown",
   "id": "d32b451e",
   "metadata": {},
   "source": [
    "#### Method of creating tuple"
   ]
  },
  {
   "cell_type": "code",
   "execution_count": 8,
   "id": "fb5b514b",
   "metadata": {},
   "outputs": [
    {
     "name": "stdout",
     "output_type": "stream",
     "text": [
      "('haldwani',)\n"
     ]
    }
   ],
   "source": [
    "city=\"haldwani\",\n",
    "print(city)"
   ]
  },
  {
   "cell_type": "code",
   "execution_count": 5,
   "id": "c55b08e8",
   "metadata": {},
   "outputs": [
    {
     "data": {
      "text/plain": [
       "tuple"
      ]
     },
     "execution_count": 5,
     "metadata": {},
     "output_type": "execute_result"
    }
   ],
   "source": [
    "type(city)"
   ]
  },
  {
   "cell_type": "code",
   "execution_count": 6,
   "id": "e469d065",
   "metadata": {},
   "outputs": [
    {
     "name": "stdout",
     "output_type": "stream",
     "text": [
      "('haldwani', 'kiccha')\n"
     ]
    },
    {
     "data": {
      "text/plain": [
       "tuple"
      ]
     },
     "execution_count": 6,
     "metadata": {},
     "output_type": "execute_result"
    }
   ],
   "source": [
    "city=(\"haldwani\",\"kiccha\")\n",
    "print(city)\n",
    "type(city)"
   ]
  },
  {
   "cell_type": "markdown",
   "id": "6bf14e06",
   "metadata": {},
   "source": [
    "## Diffrence between List and Tuple\n"
   ]
  },
  {
   "cell_type": "markdown",
   "id": "1282fa8c",
   "metadata": {},
   "source": [
    "##### Important differences between List and Tuple in Python\n",
    "\n",
    "\n",
    "<Table style=\"text-align: left;\">\n",
    "    <tr  > <td style=\"text-align: center;\">SR.NO.</td>\t<td style=\"text-align: center;\">LIST</td>\t<td style=\"text-align: center;\">TUPLE</td></tr>\n",
    "    <tr><td>1\t<td>Lists are mutable</td>\t<td>Tuples are immutable</td></tr>\n",
    "<tr><td>2</td>\t<td>The implication of iterations is Time-consuming</td>\t<td>The implication of iterations is comparatively Faster</td></tr>\n",
    "<tr><td>3</td>\t<td>The list is better for performing operations, such as insertion and deletion.</td>\t<td>Tuple data type is appropriate for accessing the elements</td></tr>\n",
    "<tr><td>4</td>\t<td>Lists consume more memory</td>\t<td>Tuple consumes less memory as compared to the list</td></tr>\n",
    "<tr><td>5</td>\t<td>Lists have several built-in methods\t</td><td>Tuple does not have many built-in methods.</td></tr>\n",
    "<tr><td>6</td>\t<td>The unexpected changes and errors are more likely to occur</td>\t<td>In tuple, it is hard to take place.</td></tr></table>"
   ]
  },
  {
   "cell_type": "code",
   "execution_count": 9,
   "id": "ffd3389a",
   "metadata": {},
   "outputs": [
    {
     "name": "stdout",
     "output_type": "stream",
     "text": [
      "[1, 2, 3, 4, 5]\n"
     ]
    }
   ],
   "source": [
    "list1=[1,2,3,4]\n",
    "tuple1=(1,2,3,4)\n",
    "list1.append(5)\n",
    "print(list1)"
   ]
  },
  {
   "cell_type": "code",
   "execution_count": 10,
   "id": "8f56a6be",
   "metadata": {},
   "outputs": [
    {
     "ename": "AttributeError",
     "evalue": "'tuple' object has no attribute 'append'",
     "output_type": "error",
     "traceback": [
      "\u001b[1;31m---------------------------------------------------------------------------\u001b[0m",
      "\u001b[1;31mAttributeError\u001b[0m                            Traceback (most recent call last)",
      "\u001b[1;32m~\\AppData\\Local\\Temp\\ipykernel_6312\\2709705513.py\u001b[0m in \u001b[0;36m<module>\u001b[1;34m\u001b[0m\n\u001b[1;32m----> 1\u001b[1;33m \u001b[0mtuple1\u001b[0m\u001b[1;33m.\u001b[0m\u001b[0mappend\u001b[0m\u001b[1;33m(\u001b[0m\u001b[1;36m5\u001b[0m\u001b[1;33m)\u001b[0m\u001b[1;33m\u001b[0m\u001b[1;33m\u001b[0m\u001b[0m\n\u001b[0m",
      "\u001b[1;31mAttributeError\u001b[0m: 'tuple' object has no attribute 'append'"
     ]
    }
   ],
   "source": [
    "tuple1.append(5)"
   ]
  },
  {
   "cell_type": "code",
   "execution_count": null,
   "id": "5ead9ccf",
   "metadata": {},
   "outputs": [],
   "source": []
  }
 ],
 "metadata": {
  "kernelspec": {
   "display_name": "Python 3 (ipykernel)",
   "language": "python",
   "name": "python3"
  },
  "language_info": {
   "codemirror_mode": {
    "name": "ipython",
    "version": 3
   },
   "file_extension": ".py",
   "mimetype": "text/x-python",
   "name": "python",
   "nbconvert_exporter": "python",
   "pygments_lexer": "ipython3",
   "version": "3.9.13"
  }
 },
 "nbformat": 4,
 "nbformat_minor": 5
}
